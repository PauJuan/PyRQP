{
 "cells": [
  {
   "cell_type": "code",
   "execution_count": 1147,
   "id": "a9133a6c-0007-49d7-9ca4-abc07a28498b",
   "metadata": {},
   "outputs": [],
   "source": [
    "import matplotlib.pyplot as plt\n",
    "import numpy as np\n",
    "import pandas as pd\n",
    "import scipy\n",
    "import seaborn as sns"
   ]
  },
  {
   "cell_type": "markdown",
   "id": "e0b96aa4-5e16-4054-ac73-5d455109f890",
   "metadata": {},
   "source": [
    "# PyRQP"
   ]
  },
  {
   "cell_type": "markdown",
   "id": "06d1a557-694c-4688-ba56-1be369f36f4d",
   "metadata": {},
   "source": [
    "## Input parameters"
   ]
  },
  {
   "cell_type": "code",
   "execution_count": 1148,
   "id": "bbc8170e-a66a-4d27-bb18-13b5a07b3491",
   "metadata": {},
   "outputs": [],
   "source": [
    "# Flows\n",
    "riv_flow_mean = 100\n",
    "riv_flow_sd = 93  # New code uses 5th percentile\n",
    "dis_flow_mean = 20\n",
    "dis_flow_sd = 8\n",
    "\n",
    "# Water quality\n",
    "riv_wq_mean = 2\n",
    "riv_wq_sd = 1\n",
    "dis_wq_mean = 15\n",
    "dis_wq_sd = 7\n",
    "\n",
    "# Correlations\n",
    "corr_riv_dis_flow = 0.6\n",
    "corr_riv_flow_wq = -0.3\n",
    "corr_dis_flow_wq = -0.2"
   ]
  },
  {
   "cell_type": "markdown",
   "id": "df16c84b-118f-4163-8112-fc25d59bfd5f",
   "metadata": {},
   "source": [
    "## Prepare all functionality"
   ]
  },
  {
   "cell_type": "code",
   "execution_count": 1149,
   "id": "328fafe7-b355-4def-ab01-317ae62dd700",
   "metadata": {},
   "outputs": [],
   "source": [
    "def transform_log_to_normal(lg_mean, lg_sd):\n",
    "    \"\"\" \"\"\"\n",
    "    mean = np.log(lg_mean / ((1 + ((lg_sd**2) / (lg_mean**2))) ** 0.5))\n",
    "    sd = (np.log(1 + (lg_sd**2) / (lg_mean**2))) ** 0.5\n",
    "    return mean, sd"
   ]
  },
  {
   "cell_type": "code",
   "execution_count": 1150,
   "id": "8d68d3db-543f-4381-8dd3-bfada950eb8b",
   "metadata": {},
   "outputs": [],
   "source": [
    "def calculate_covariance(corr, std_1, std_2):\n",
    "    \"\"\"\n",
    "    This formula takes a correlation and two std\n",
    "    and calculates the covariance matrix\n",
    "    \"\"\"\n",
    "    cov = corr * std_1 * std_2\n",
    "    return cov"
   ]
  },
  {
   "cell_type": "code",
   "execution_count": 1151,
   "id": "5e349e7b-fcee-4d13-b180-1cd3d1455ed2",
   "metadata": {},
   "outputs": [],
   "source": [
    "def calculate_multivariate_log_normal(\n",
    "    mean1, std1, mean2, std2, mean3, std3, mean4, std4, corr1_2, corr1_3, corr2_4\n",
    "):\n",
    "    \"\"\" \"\"\"\n",
    "    # Transform to normal\n",
    "    mean1, std1 = transform_log_to_normal(mean1, std1)\n",
    "    mean2, std2 = transform_log_to_normal(mean2, std2)\n",
    "    mean3, std3 = transform_log_to_normal(mean3, std3)\n",
    "    mean4, std4 = transform_log_to_normal(mean4, std4)\n",
    "\n",
    "    # Calculate covariances\n",
    "    cov1_2 = calculate_covariance(corr1_2, std1, std2)\n",
    "    cov1_3 = calculate_covariance(corr1_3, std1, std3)\n",
    "    cov2_4 = calculate_covariance(corr2_4, std2, std4)\n",
    "\n",
    "    # Build covariance matrix\n",
    "    cov_matrix = [\n",
    "        [std1**2, cov1_2, cov1_3, 0],\n",
    "        [cov1_2, std2**2, 0, cov2_4],\n",
    "        [cov1_3, 0, std3**2, 0],\n",
    "        [0, cov2_4, 0, std4**2],\n",
    "    ]\n",
    "    cov_matrix = np.array(cov_matrix)\n",
    "\n",
    "    # Generate normal random multivariate\n",
    "    data = np.random.multivariate_normal(\n",
    "        [mean1, mean2, mean3, mean4], cov_matrix, size=100000\n",
    "    )\n",
    "\n",
    "    # Transform to lognormal\n",
    "    data = np.exp(data)\n",
    "\n",
    "    df = pd.DataFrame(data, columns=[\"riv_flow\", \"dis_flow\", \"riv_qual\", \"dis_qual\"])\n",
    "\n",
    "    return df, cov_matrix"
   ]
  },
  {
   "cell_type": "markdown",
   "id": "075088c5-7a3a-436a-988d-93909f12f5f3",
   "metadata": {},
   "source": [
    "## Calculate downstream quality"
   ]
  },
  {
   "cell_type": "code",
   "execution_count": 1152,
   "id": "5b27f13d-6071-472d-bc87-4be2a8df332e",
   "metadata": {},
   "outputs": [],
   "source": [
    "df, cov_matrix = calculate_multivariate_log_normal(\n",
    "    # Flow\n",
    "    riv_flow_mean,\n",
    "    riv_flow_sd,\n",
    "    dis_flow_mean,\n",
    "    dis_flow_sd,\n",
    "    # Quality\n",
    "    riv_wq_mean,\n",
    "    riv_wq_sd,\n",
    "    dis_wq_mean,\n",
    "    dis_wq_sd,\n",
    "    # Correlations\n",
    "    corr_riv_dis_flow,\n",
    "    corr_riv_flow_wq,\n",
    "    corr_dis_flow_wq,\n",
    ")"
   ]
  },
  {
   "cell_type": "code",
   "execution_count": 1153,
   "id": "98cd7547-68a0-4d9f-af9b-2ec9eddf3d8c",
   "metadata": {},
   "outputs": [],
   "source": [
    "df = df.eval(\"ds_flow = riv_flow + dis_flow\")\n",
    "df = df.eval(\"ds_qual = (riv_flow * riv_qual + dis_flow * dis_qual) / ds_flow\")"
   ]
  },
  {
   "cell_type": "markdown",
   "id": "2d9a4049-4edc-41fb-97fb-b74722626047",
   "metadata": {},
   "source": [
    "## Calculate descriptive statistics"
   ]
  },
  {
   "cell_type": "code",
   "execution_count": 1154,
   "id": "3f189d4b-1acf-4986-8a04-280b357cebab",
   "metadata": {},
   "outputs": [
    {
     "data": {
      "text/html": [
       "<div>\n",
       "<style scoped>\n",
       "    .dataframe tbody tr th:only-of-type {\n",
       "        vertical-align: middle;\n",
       "    }\n",
       "\n",
       "    .dataframe tbody tr th {\n",
       "        vertical-align: top;\n",
       "    }\n",
       "\n",
       "    .dataframe thead th {\n",
       "        text-align: right;\n",
       "    }\n",
       "</style>\n",
       "<table border=\"1\" class=\"dataframe\">\n",
       "  <thead>\n",
       "    <tr style=\"text-align: right;\">\n",
       "      <th></th>\n",
       "      <th>mean</th>\n",
       "      <th>std</th>\n",
       "      <th>90pc</th>\n",
       "      <th>95pc</th>\n",
       "      <th>99pc</th>\n",
       "    </tr>\n",
       "  </thead>\n",
       "  <tbody>\n",
       "    <tr>\n",
       "      <th>riv_flow</th>\n",
       "      <td>100.113994</td>\n",
       "      <td>92.764728</td>\n",
       "      <td>202.159303</td>\n",
       "      <td>268.181671</td>\n",
       "      <td>460.064910</td>\n",
       "    </tr>\n",
       "    <tr>\n",
       "      <th>dis_flow</th>\n",
       "      <td>20.011945</td>\n",
       "      <td>8.007262</td>\n",
       "      <td>30.413576</td>\n",
       "      <td>34.932727</td>\n",
       "      <td>45.532806</td>\n",
       "    </tr>\n",
       "    <tr>\n",
       "      <th>riv_qual</th>\n",
       "      <td>1.994862</td>\n",
       "      <td>0.997699</td>\n",
       "      <td>3.264662</td>\n",
       "      <td>3.879874</td>\n",
       "      <td>5.356069</td>\n",
       "    </tr>\n",
       "    <tr>\n",
       "      <th>dis_qual</th>\n",
       "      <td>15.017385</td>\n",
       "      <td>7.014069</td>\n",
       "      <td>24.060626</td>\n",
       "      <td>28.222059</td>\n",
       "      <td>38.376050</td>\n",
       "    </tr>\n",
       "    <tr>\n",
       "      <th>ds_flow</th>\n",
       "      <td>120.125939</td>\n",
       "      <td>97.288842</td>\n",
       "      <td>228.503622</td>\n",
       "      <td>297.144872</td>\n",
       "      <td>493.783074</td>\n",
       "    </tr>\n",
       "    <tr>\n",
       "      <th>ds_qual</th>\n",
       "      <td>4.746556</td>\n",
       "      <td>2.285419</td>\n",
       "      <td>7.637795</td>\n",
       "      <td>9.054534</td>\n",
       "      <td>12.443630</td>\n",
       "    </tr>\n",
       "  </tbody>\n",
       "</table>\n",
       "</div>"
      ],
      "text/plain": [
       "                mean        std        90pc        95pc        99pc\n",
       "riv_flow  100.113994  92.764728  202.159303  268.181671  460.064910\n",
       "dis_flow   20.011945   8.007262   30.413576   34.932727   45.532806\n",
       "riv_qual    1.994862   0.997699    3.264662    3.879874    5.356069\n",
       "dis_qual   15.017385   7.014069   24.060626   28.222059   38.376050\n",
       "ds_flow   120.125939  97.288842  228.503622  297.144872  493.783074\n",
       "ds_qual     4.746556   2.285419    7.637795    9.054534   12.443630"
      ]
     },
     "execution_count": 1154,
     "metadata": {},
     "output_type": "execute_result"
    }
   ],
   "source": [
    "stats = df.agg([\"mean\", \"std\"]).T\n",
    "stats[\"90pc\"] = df.quantile(0.90)\n",
    "stats[\"95pc\"] = df.quantile(0.95)\n",
    "stats[\"99pc\"] = df.quantile(0.99)\n",
    "stats"
   ]
  },
  {
   "cell_type": "code",
   "execution_count": 1155,
   "id": "89ce33ed-6eb7-47f2-8b16-04657350f39c",
   "metadata": {},
   "outputs": [
    {
     "data": {
      "text/html": [
       "<div>\n",
       "<style scoped>\n",
       "    .dataframe tbody tr th:only-of-type {\n",
       "        vertical-align: middle;\n",
       "    }\n",
       "\n",
       "    .dataframe tbody tr th {\n",
       "        vertical-align: top;\n",
       "    }\n",
       "\n",
       "    .dataframe thead th {\n",
       "        text-align: right;\n",
       "    }\n",
       "</style>\n",
       "<table border=\"1\" class=\"dataframe\">\n",
       "  <thead>\n",
       "    <tr style=\"text-align: right;\">\n",
       "      <th></th>\n",
       "      <th>riv_flow</th>\n",
       "      <th>dis_flow</th>\n",
       "      <th>riv_qual</th>\n",
       "      <th>dis_qual</th>\n",
       "      <th>ds_flow</th>\n",
       "      <th>ds_qual</th>\n",
       "    </tr>\n",
       "  </thead>\n",
       "  <tbody>\n",
       "    <tr>\n",
       "      <th>riv_flow</th>\n",
       "      <td>1.000000</td>\n",
       "      <td>0.535620</td>\n",
       "      <td>-0.228727</td>\n",
       "      <td>-0.003625</td>\n",
       "      <td>0.997582</td>\n",
       "      <td>-0.460627</td>\n",
       "    </tr>\n",
       "    <tr>\n",
       "      <th>dis_flow</th>\n",
       "      <td>0.535620</td>\n",
       "      <td>1.000000</td>\n",
       "      <td>-0.000601</td>\n",
       "      <td>-0.178881</td>\n",
       "      <td>0.593017</td>\n",
       "      <td>-0.191493</td>\n",
       "    </tr>\n",
       "    <tr>\n",
       "      <th>riv_qual</th>\n",
       "      <td>-0.228727</td>\n",
       "      <td>-0.000601</td>\n",
       "      <td>1.000000</td>\n",
       "      <td>-0.001099</td>\n",
       "      <td>-0.218140</td>\n",
       "      <td>0.526390</td>\n",
       "    </tr>\n",
       "    <tr>\n",
       "      <th>dis_qual</th>\n",
       "      <td>-0.003625</td>\n",
       "      <td>-0.178881</td>\n",
       "      <td>-0.001099</td>\n",
       "      <td>1.000000</td>\n",
       "      <td>-0.018179</td>\n",
       "      <td>0.583060</td>\n",
       "    </tr>\n",
       "    <tr>\n",
       "      <th>ds_flow</th>\n",
       "      <td>0.997582</td>\n",
       "      <td>0.593017</td>\n",
       "      <td>-0.218140</td>\n",
       "      <td>-0.018179</td>\n",
       "      <td>1.000000</td>\n",
       "      <td>-0.454967</td>\n",
       "    </tr>\n",
       "    <tr>\n",
       "      <th>ds_qual</th>\n",
       "      <td>-0.460627</td>\n",
       "      <td>-0.191493</td>\n",
       "      <td>0.526390</td>\n",
       "      <td>0.583060</td>\n",
       "      <td>-0.454967</td>\n",
       "      <td>1.000000</td>\n",
       "    </tr>\n",
       "  </tbody>\n",
       "</table>\n",
       "</div>"
      ],
      "text/plain": [
       "          riv_flow  dis_flow  riv_qual  dis_qual   ds_flow   ds_qual\n",
       "riv_flow  1.000000  0.535620 -0.228727 -0.003625  0.997582 -0.460627\n",
       "dis_flow  0.535620  1.000000 -0.000601 -0.178881  0.593017 -0.191493\n",
       "riv_qual -0.228727 -0.000601  1.000000 -0.001099 -0.218140  0.526390\n",
       "dis_qual -0.003625 -0.178881 -0.001099  1.000000 -0.018179  0.583060\n",
       "ds_flow   0.997582  0.593017 -0.218140 -0.018179  1.000000 -0.454967\n",
       "ds_qual  -0.460627 -0.191493  0.526390  0.583060 -0.454967  1.000000"
      ]
     },
     "execution_count": 1155,
     "metadata": {},
     "output_type": "execute_result"
    }
   ],
   "source": [
    "df.corr()  # This is important information that should be part of the analysis"
   ]
  },
  {
   "cell_type": "markdown",
   "id": "e9b26871-a457-4aa3-b726-482c01e3d9f4",
   "metadata": {},
   "source": [
    "## Backward calculation"
   ]
  },
  {
   "cell_type": "code",
   "execution_count": 1156,
   "id": "8b696c8b-cb48-4e9d-8d21-c6059a204202",
   "metadata": {},
   "outputs": [],
   "source": [
    "target = 6\n",
    "percentile = 0.9\n",
    "# TODO Look at equation from notebook to transform from percentile to mean"
   ]
  },
  {
   "cell_type": "code",
   "execution_count": 1157,
   "id": "b1baaf0a-3070-4032-bafa-ca4b01643b48",
   "metadata": {},
   "outputs": [
    {
     "name": "stdout",
     "output_type": "stream",
     "text": [
      "0.7855670280420233\n"
     ]
    }
   ],
   "source": [
    "# Calculate scale factor and scale\n",
    "scale = target / df[\"ds_qual\"].quantile(percentile)\n",
    "print(scale)\n",
    "df[\"ds_qual_target\"] = df[\"ds_qual\"] * scale\n",
    "# Recalculate discharge quality target\n",
    "df = df.eval(\"dis_qual_target = (ds_flow * ds_qual_target - riv_flow * riv_qual) / dis_flow\")\n",
    "# Recalculate dis_qual_target based keeping CoV\n",
    "adj_factor = df[\"dis_qual_target\"].mean() / df[\"dis_qual\"].mean()\n",
    "df[\"dis_qual_target\"] = df[\"dis_qual\"] * adj_factor\n",
    "# Re-calculate ds water quality\n",
    "df = df.eval(\"ds_qual_target = (riv_flow * riv_qual + dis_flow * dis_qual_target) / ds_flow\")\n",
    "# Check the scale\n",
    "scale = target / df[\"ds_qual_target\"].quantile(0.9)"
   ]
  },
  {
   "cell_type": "code",
   "execution_count": 1158,
   "id": "af03c878-f7e3-4749-b12f-5a0ca686c382",
   "metadata": {},
   "outputs": [
    {
     "name": "stdout",
     "output_type": "stream",
     "text": [
      "1.0466389772775844\n",
      "0.9915700226617462\n",
      "1.0018435387833282\n"
     ]
    }
   ],
   "source": [
    "while round(scale, 3) != 1:\n",
    "    print(scale)\n",
    "    # Calculate scale factor and scale\n",
    "    df[\"ds_qual_target\"] = df[\"ds_qual_target\"] * scale\n",
    "    # Recalculate discharge quality target\n",
    "    df = df.eval(\"dis_qual_target = (ds_flow * ds_qual_target - riv_flow * riv_qual) / dis_flow\")\n",
    "    # Recalculate dis_qual_target based keeping CoV\n",
    "    adj_factor = df[\"dis_qual_target\"].mean() / df[\"dis_qual\"].mean()\n",
    "    df[\"dis_qual_target\"] = df[\"dis_qual\"] * adj_factor\n",
    "    # Re-calculate ds water quality\n",
    "    df = df.eval(\"ds_qual_target = (riv_flow * riv_qual + dis_flow * dis_qual_target) / ds_flow\")\n",
    "    # Check the scale\n",
    "    scale = target / df[\"ds_qual_target\"].quantile(0.9)"
   ]
  },
  {
   "cell_type": "code",
   "execution_count": 1161,
   "id": "f5965a2f-72b4-4189-9cea-d30770805b32",
   "metadata": {},
   "outputs": [
    {
     "data": {
      "text/html": [
       "<div>\n",
       "<style scoped>\n",
       "    .dataframe tbody tr th:only-of-type {\n",
       "        vertical-align: middle;\n",
       "    }\n",
       "\n",
       "    .dataframe tbody tr th {\n",
       "        vertical-align: top;\n",
       "    }\n",
       "\n",
       "    .dataframe thead th {\n",
       "        text-align: right;\n",
       "    }\n",
       "</style>\n",
       "<table border=\"1\" class=\"dataframe\">\n",
       "  <thead>\n",
       "    <tr style=\"text-align: right;\">\n",
       "      <th></th>\n",
       "      <th>mean</th>\n",
       "      <th>std</th>\n",
       "      <th>90pc</th>\n",
       "      <th>95pc</th>\n",
       "      <th>99pc</th>\n",
       "      <th>99.5pc</th>\n",
       "      <th>cov</th>\n",
       "    </tr>\n",
       "  </thead>\n",
       "  <tbody>\n",
       "    <tr>\n",
       "      <th>riv_flow</th>\n",
       "      <td>100.113994</td>\n",
       "      <td>92.764728</td>\n",
       "      <td>202.159303</td>\n",
       "      <td>268.181671</td>\n",
       "      <td>460.064910</td>\n",
       "      <td>559.259464</td>\n",
       "      <td>0.926591</td>\n",
       "    </tr>\n",
       "    <tr>\n",
       "      <th>dis_flow</th>\n",
       "      <td>20.011945</td>\n",
       "      <td>8.007262</td>\n",
       "      <td>30.413576</td>\n",
       "      <td>34.932727</td>\n",
       "      <td>45.532806</td>\n",
       "      <td>50.111918</td>\n",
       "      <td>0.400124</td>\n",
       "    </tr>\n",
       "    <tr>\n",
       "      <th>riv_qual</th>\n",
       "      <td>1.994862</td>\n",
       "      <td>0.997699</td>\n",
       "      <td>3.264662</td>\n",
       "      <td>3.879874</td>\n",
       "      <td>5.356069</td>\n",
       "      <td>6.052525</td>\n",
       "      <td>0.500134</td>\n",
       "    </tr>\n",
       "    <tr>\n",
       "      <th>dis_qual</th>\n",
       "      <td>15.017385</td>\n",
       "      <td>7.014069</td>\n",
       "      <td>24.060626</td>\n",
       "      <td>28.222059</td>\n",
       "      <td>38.376050</td>\n",
       "      <td>42.795005</td>\n",
       "      <td>0.467063</td>\n",
       "    </tr>\n",
       "    <tr>\n",
       "      <th>ds_flow</th>\n",
       "      <td>120.125939</td>\n",
       "      <td>97.288842</td>\n",
       "      <td>228.503622</td>\n",
       "      <td>297.144872</td>\n",
       "      <td>493.783074</td>\n",
       "      <td>591.211972</td>\n",
       "      <td>0.809890</td>\n",
       "    </tr>\n",
       "    <tr>\n",
       "      <th>ds_qual</th>\n",
       "      <td>4.746556</td>\n",
       "      <td>2.285419</td>\n",
       "      <td>7.637795</td>\n",
       "      <td>9.054534</td>\n",
       "      <td>12.443630</td>\n",
       "      <td>13.903919</td>\n",
       "      <td>0.481490</td>\n",
       "    </tr>\n",
       "    <tr>\n",
       "      <th>ds_qual_target</th>\n",
       "      <td>3.815545</td>\n",
       "      <td>1.711832</td>\n",
       "      <td>6.002681</td>\n",
       "      <td>7.030035</td>\n",
       "      <td>9.412873</td>\n",
       "      <td>10.523106</td>\n",
       "      <td>0.448647</td>\n",
       "    </tr>\n",
       "    <tr>\n",
       "      <th>dis_qual_target</th>\n",
       "      <td>10.685485</td>\n",
       "      <td>4.990797</td>\n",
       "      <td>17.120122</td>\n",
       "      <td>20.081152</td>\n",
       "      <td>27.306134</td>\n",
       "      <td>30.450401</td>\n",
       "      <td>0.467063</td>\n",
       "    </tr>\n",
       "  </tbody>\n",
       "</table>\n",
       "</div>"
      ],
      "text/plain": [
       "                       mean        std        90pc        95pc        99pc  \\\n",
       "riv_flow         100.113994  92.764728  202.159303  268.181671  460.064910   \n",
       "dis_flow          20.011945   8.007262   30.413576   34.932727   45.532806   \n",
       "riv_qual           1.994862   0.997699    3.264662    3.879874    5.356069   \n",
       "dis_qual          15.017385   7.014069   24.060626   28.222059   38.376050   \n",
       "ds_flow          120.125939  97.288842  228.503622  297.144872  493.783074   \n",
       "ds_qual            4.746556   2.285419    7.637795    9.054534   12.443630   \n",
       "ds_qual_target     3.815545   1.711832    6.002681    7.030035    9.412873   \n",
       "dis_qual_target   10.685485   4.990797   17.120122   20.081152   27.306134   \n",
       "\n",
       "                     99.5pc       cov  \n",
       "riv_flow         559.259464  0.926591  \n",
       "dis_flow          50.111918  0.400124  \n",
       "riv_qual           6.052525  0.500134  \n",
       "dis_qual          42.795005  0.467063  \n",
       "ds_flow          591.211972  0.809890  \n",
       "ds_qual           13.903919  0.481490  \n",
       "ds_qual_target    10.523106  0.448647  \n",
       "dis_qual_target   30.450401  0.467063  "
      ]
     },
     "execution_count": 1161,
     "metadata": {},
     "output_type": "execute_result"
    }
   ],
   "source": [
    "stats = df.agg([\"mean\", \"std\"]).T\n",
    "stats[\"90pc\"] = df.quantile(0.90)\n",
    "stats[\"95pc\"] = df.quantile(0.95)\n",
    "stats[\"99pc\"] = df.quantile(0.99)\n",
    "stats[\"99.5pc\"] = df.quantile(0.995)\n",
    "stats[\"cov\"] = stats[\"std\"] / stats[\"mean\"]\n",
    "stats"
   ]
  },
  {
   "cell_type": "code",
   "execution_count": 1160,
   "id": "23f93d62-e4b3-48b3-b43b-c9d35268af82",
   "metadata": {},
   "outputs": [],
   "source": [
    "# https://stats.stackexchange.com/questions/212690/the-product-of-two-lognormal-random-variables\n",
    "# https://stats.stackexchange.com/questions/627427/given-two-rvs-x-and-y-if-x-y-z-is-it-possible-to-change-the-mean-and-s?noredirect=1#comment1170511_627427\n",
    "# https://stats.stackexchange.com/questions/381988/scaling-percentiles-of-log-normal-distribution\n",
    "# https://stats.stackexchange.com/questions/344825/how-do-i-find-new-standard-deviation-from-two-means-and-their-sd\n",
    "\n",
    "# TODO Try to do the same but converting to normal distribution first\n",
    "# TODO Edit the question in CrossValidates, say that you need to scale the distribution\n",
    "# https://stats.libretexts.org/Bookshelves/Probability_Theory/Probability_Mathematical_Statistics_and_Stochastic_Processes_(Siegrist)/05%253A_Special_Distributions/5.12%253A_The_Lognormal_Distribution"
   ]
  },
  {
   "cell_type": "markdown",
   "id": "d18b4927-0ae5-4954-8454-f5644af20092",
   "metadata": {},
   "source": [
    "## Backward calculation (not sure about this)"
   ]
  },
  {
   "cell_type": "markdown",
   "id": "3915bcd8-bf4b-451d-a655-397ba08e217d",
   "metadata": {},
   "source": [
    "https://stats.stackexchange.com/questions/393410/how-to-modify-the-mean-and-variance-dispersion-of-a-given-distribution\n",
    "\n",
    "https://stats.stackexchange.com/questions/381988/scaling-percentiles-of-log-normal-distribution"
   ]
  }
 ],
 "metadata": {
  "kernelspec": {
   "display_name": "Python 3 (ipykernel)",
   "language": "python",
   "name": "python3"
  },
  "language_info": {
   "codemirror_mode": {
    "name": "ipython",
    "version": 3
   },
   "file_extension": ".py",
   "mimetype": "text/x-python",
   "name": "python",
   "nbconvert_exporter": "python",
   "pygments_lexer": "ipython3",
   "version": "3.10.9"
  }
 },
 "nbformat": 4,
 "nbformat_minor": 5
}
