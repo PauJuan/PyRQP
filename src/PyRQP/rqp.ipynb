{
 "cells": [
  {
   "cell_type": "code",
   "execution_count": 525,
   "id": "a9133a6c-0007-49d7-9ca4-abc07a28498b",
   "metadata": {},
   "outputs": [],
   "source": [
    "import matplotlib.pyplot as plt\n",
    "import numpy as np\n",
    "import pandas as pd\n",
    "import scipy\n",
    "import seaborn as sns"
   ]
  },
  {
   "cell_type": "markdown",
   "id": "e0b96aa4-5e16-4054-ac73-5d455109f890",
   "metadata": {},
   "source": [
    "# PyRQP (forward calculation)"
   ]
  },
  {
   "cell_type": "markdown",
   "id": "06d1a557-694c-4688-ba56-1be369f36f4d",
   "metadata": {},
   "source": [
    "## Input parameters"
   ]
  },
  {
   "cell_type": "code",
   "execution_count": 526,
   "id": "bbc8170e-a66a-4d27-bb18-13b5a07b3491",
   "metadata": {},
   "outputs": [],
   "source": [
    "# River\n",
    "riv_flow_mean = 20\n",
    "riv_flow_sd = 5\n",
    "riv_wq_mean = 0.1\n",
    "riv_wq_sd = 0.05\n",
    "\n",
    "# Discharge\n",
    "dis_flow_mean = 5\n",
    "dis_flow_sd = 1\n",
    "dis_wq_mean = 1\n",
    "dis_wq_sd = 0.5\n",
    "\n",
    "# Correlations\n",
    "corr_riv_flow_wq = 0.6\n",
    "corr_dis_flow_wq = 0.6\n",
    "corr_riv_dis_flow = 0.6"
   ]
  },
  {
   "cell_type": "markdown",
   "id": "df16c84b-118f-4163-8112-fc25d59bfd5f",
   "metadata": {},
   "source": [
    "## Prepare all functionality"
   ]
  },
  {
   "cell_type": "code",
   "execution_count": 527,
   "id": "8d68d3db-543f-4381-8dd3-bfada950eb8b",
   "metadata": {},
   "outputs": [],
   "source": [
    "def calculate_covariance(corr, std_1, std_2):\n",
    "    \"\"\"\n",
    "    This formula takes a correlation and two std\n",
    "    and calculates the covariance matrix\n",
    "    \"\"\"\n",
    "    x = corr * np.sqrt(std_1**2 * std_2**2)\n",
    "    cov = [[std_1**2, x], [x, std_2**2]]\n",
    "    return cov"
   ]
  },
  {
   "cell_type": "code",
   "execution_count": 528,
   "id": "9fe22a68-22c2-4e89-aaa7-278b88a2f929",
   "metadata": {},
   "outputs": [],
   "source": [
    "def calculate_multivariate_normal(mean_1, mean_2, cov):\n",
    "    \"\"\"\n",
    "    This formula takes a covariation matrix and two\n",
    "    mean values and calculates a two random series of\n",
    "    multivariate variables of the specified size\n",
    "    \"\"\"\n",
    "    data = np.random.multivariate_normal([mean_1, mean_2], cov, size=10000)\n",
    "    return data"
   ]
  },
  {
   "cell_type": "code",
   "execution_count": 529,
   "id": "328fafe7-b355-4def-ab01-317ae62dd700",
   "metadata": {},
   "outputs": [],
   "source": [
    "def transform_log_to_normal(lg_mean, lg_sd):\n",
    "    \"\"\" \"\"\"\n",
    "    mean = np.log(lg_mean / ((1 + ((lg_sd**2) / (lg_mean**2))) ** 0.5))\n",
    "    sd = (np.log(1 + (lg_sd**2) / (lg_mean**2))) ** 0.5\n",
    "    return mean, sd"
   ]
  },
  {
   "cell_type": "code",
   "execution_count": 530,
   "id": "d19cf3f7-f487-4152-81e5-a83891ac104c",
   "metadata": {},
   "outputs": [],
   "source": [
    "def calculate_multivariate_log_normal(corr, mean_1, mean_2, std_1, std_2):\n",
    "    \"\"\" \"\"\"\n",
    "    # Transform to 'normal' statistical moments\n",
    "    mean_1, std_1 = transform_log_to_normal(mean_1, std_1)\n",
    "    mean_2, std_2 = transform_log_to_normal(mean_2, std_2)\n",
    "    # Calculate covariance\n",
    "    cov = calculate_covariance(corr, std_1, std_2)\n",
    "    # Calcualate random multivariate data\n",
    "    pts = calculate_multivariate_normal(mean_1, mean_2, cov)\n",
    "    # Transform to lognormal\n",
    "    pts = np.exp(pts)\n",
    "    return pts"
   ]
  },
  {
   "cell_type": "code",
   "execution_count": 531,
   "id": "821326e7-d00b-4c59-8bc4-b17bc3b385fb",
   "metadata": {},
   "outputs": [],
   "source": [
    "# Example\n",
    "# pts = calculate_multivariate_log_normal(\n",
    "#     corr_riv_flow_wq, riv_flow_mean, riv_wq_mean, riv_flow_sd, riv_wq_sd\n",
    "# )\n",
    "# pts = pd.DataFrame(pts, columns=[\"Flow\", \"Quality\"])\n",
    "# pts.mean()\n",
    "# pts.std()\n",
    "# pts.corr()"
   ]
  },
  {
   "cell_type": "markdown",
   "id": "226318bf-57f9-483f-9c17-f15af6867bf2",
   "metadata": {},
   "source": [
    "## Calculate correlated lognormal random variable for each correlated series of data"
   ]
  },
  {
   "cell_type": "code",
   "execution_count": 532,
   "id": "4512c6ed-e40a-4939-a43a-3364087a2993",
   "metadata": {},
   "outputs": [],
   "source": [
    "# Correlation between river flow and quality\n",
    "pts_1 = calculate_multivariate_log_normal(\n",
    "    corr_riv_flow_wq, riv_flow_mean, riv_wq_mean, riv_flow_sd, riv_wq_sd\n",
    ")\n",
    "pts_1 = pd.DataFrame(pts_1, columns=[\"River flow\", \"River quality\"]).sort_values(\n",
    "    \"River flow\"\n",
    ")\n",
    "\n",
    "# Correlation between discharge flow and quality\n",
    "pts_2 = calculate_multivariate_log_normal(\n",
    "    corr_dis_flow_wq, dis_flow_mean, dis_wq_mean, dis_flow_sd, dis_wq_sd\n",
    ")\n",
    "pts_2 = pd.DataFrame(\n",
    "    pts_2, columns=[\"Discharge flow\", \"Discharge quality\"]\n",
    ").sort_values(\"Discharge flow\")\n",
    "\n",
    "# Correlation between river flow and discharge flow\n",
    "pts_3 = calculate_multivariate_log_normal(\n",
    "    corr_riv_dis_flow, riv_flow_mean, dis_flow_mean, riv_flow_sd, dis_flow_sd\n",
    ")\n",
    "pts_3 = pd.DataFrame(pts_3, columns=[\"River flow\", \"Discharge flow\"]).sort_values(\n",
    "    \"River flow\"\n",
    ")"
   ]
  },
  {
   "cell_type": "markdown",
   "id": "8a3c8a21-aabb-46be-9ce9-a25cea102624",
   "metadata": {},
   "source": [
    "## Build master dataframe with all data"
   ]
  },
  {
   "cell_type": "code",
   "execution_count": 533,
   "id": "c1fbcc15-84d8-4f93-9949-c890d53d1f25",
   "metadata": {},
   "outputs": [],
   "source": [
    "df = pd.concat(\n",
    "    [pts_1, pts_2[\"Discharge quality\"], pts_3[\"Discharge flow\"]],\n",
    "    axis=1,\n",
    "    ignore_index=True,\n",
    ")\n",
    "df.columns = [\"River_flow\", \"River_quality\", \"Discharge_quality\", \"Discharge_flow\"]"
   ]
  },
  {
   "cell_type": "markdown",
   "id": "e046f22a-6b56-4581-ab66-09d81b23469b",
   "metadata": {},
   "source": [
    "## Calculate downstream quality column"
   ]
  },
  {
   "cell_type": "code",
   "execution_count": 534,
   "id": "5534641f-4f58-4f5e-be8e-824af3f35825",
   "metadata": {},
   "outputs": [],
   "source": [
    "df = df.eval(\"Downstream_flow = River_flow + Discharge_flow\")"
   ]
  },
  {
   "cell_type": "code",
   "execution_count": 535,
   "id": "03bd1e66-bb5d-43dc-b820-6885ccc3eebd",
   "metadata": {},
   "outputs": [],
   "source": [
    "df = df.eval(\n",
    "    \"Downstream_wq = (River_flow * River_quality + Discharge_flow * Discharge_quality) / Downstream_flow\"\n",
    ")"
   ]
  },
  {
   "cell_type": "markdown",
   "id": "2d9a4049-4edc-41fb-97fb-b74722626047",
   "metadata": {},
   "source": [
    "## Calculate descriptive statistics"
   ]
  },
  {
   "cell_type": "code",
   "execution_count": 539,
   "id": "6da401f2-478b-4bfa-aad0-279fe4c8ecad",
   "metadata": {},
   "outputs": [
    {
     "data": {
      "text/html": [
       "<div>\n",
       "<style scoped>\n",
       "    .dataframe tbody tr th:only-of-type {\n",
       "        vertical-align: middle;\n",
       "    }\n",
       "\n",
       "    .dataframe tbody tr th {\n",
       "        vertical-align: top;\n",
       "    }\n",
       "\n",
       "    .dataframe thead th {\n",
       "        text-align: right;\n",
       "    }\n",
       "</style>\n",
       "<table border=\"1\" class=\"dataframe\">\n",
       "  <thead>\n",
       "    <tr style=\"text-align: right;\">\n",
       "      <th></th>\n",
       "      <th>count</th>\n",
       "      <th>mean</th>\n",
       "      <th>std</th>\n",
       "      <th>min</th>\n",
       "      <th>25%</th>\n",
       "      <th>50%</th>\n",
       "      <th>75%</th>\n",
       "      <th>max</th>\n",
       "    </tr>\n",
       "  </thead>\n",
       "  <tbody>\n",
       "    <tr>\n",
       "      <th>Downstream_flow</th>\n",
       "      <td>10000.0</td>\n",
       "      <td>24.904710</td>\n",
       "      <td>5.050273</td>\n",
       "      <td>11.733161</td>\n",
       "      <td>21.313506</td>\n",
       "      <td>24.319397</td>\n",
       "      <td>27.857090</td>\n",
       "      <td>57.578773</td>\n",
       "    </tr>\n",
       "    <tr>\n",
       "      <th>Downstream_wq</th>\n",
       "      <td>10000.0</td>\n",
       "      <td>0.284778</td>\n",
       "      <td>0.115803</td>\n",
       "      <td>0.057715</td>\n",
       "      <td>0.205901</td>\n",
       "      <td>0.261068</td>\n",
       "      <td>0.337676</td>\n",
       "      <td>1.529244</td>\n",
       "    </tr>\n",
       "  </tbody>\n",
       "</table>\n",
       "</div>"
      ],
      "text/plain": [
       "                   count       mean       std        min        25%  \\\n",
       "Downstream_flow  10000.0  24.904710  5.050273  11.733161  21.313506   \n",
       "Downstream_wq    10000.0   0.284778  0.115803   0.057715   0.205901   \n",
       "\n",
       "                       50%        75%        max  \n",
       "Downstream_flow  24.319397  27.857090  57.578773  \n",
       "Downstream_wq     0.261068   0.337676   1.529244  "
      ]
     },
     "execution_count": 539,
     "metadata": {},
     "output_type": "execute_result"
    }
   ],
   "source": [
    "df[[\"Downstream_flow\", \"Downstream_wq\"]].describe().T"
   ]
  },
  {
   "cell_type": "code",
   "execution_count": 537,
   "id": "03d717e2-3792-4146-97fe-e36131309de3",
   "metadata": {},
   "outputs": [
    {
     "data": {
      "text/plain": [
       "Downstream_flow    17.774755\n",
       "Downstream_wq       0.147690\n",
       "Name: 0.05, dtype: float64"
      ]
     },
     "execution_count": 537,
     "metadata": {},
     "output_type": "execute_result"
    }
   ],
   "source": [
    "df[[\"Downstream_flow\", \"Downstream_wq\"]].quantile(0.05)"
   ]
  },
  {
   "cell_type": "code",
   "execution_count": 538,
   "id": "66f0eb45-1c80-44cf-9d34-94783fb8eb4b",
   "metadata": {},
   "outputs": [
    {
     "data": {
      "text/plain": [
       "Downstream_flow    33.932806\n",
       "Downstream_wq       0.500293\n",
       "Name: 0.95, dtype: float64"
      ]
     },
     "execution_count": 538,
     "metadata": {},
     "output_type": "execute_result"
    }
   ],
   "source": [
    "df[[\"Downstream_flow\", \"Downstream_wq\"]].quantile(0.95)"
   ]
  },
  {
   "cell_type": "markdown",
   "id": "93ed685f-4f41-441e-8163-8bb836a3053d",
   "metadata": {},
   "source": [
    "# TODO\n",
    "\n",
    "- Transform into a proper GitHub library\n",
    "- Add extra functionality\n",
    "    - Backward calculations\n",
    "    - Decay (with optional decay rate and time or distance plus alpha/beta values)\n",
    "    - Visualisation (e.g., histograms)"
   ]
  }
 ],
 "metadata": {
  "kernelspec": {
   "display_name": "Python 3 (ipykernel)",
   "language": "python",
   "name": "python3"
  },
  "language_info": {
   "codemirror_mode": {
    "name": "ipython",
    "version": 3
   },
   "file_extension": ".py",
   "mimetype": "text/x-python",
   "name": "python",
   "nbconvert_exporter": "python",
   "pygments_lexer": "ipython3",
   "version": "3.10.9"
  }
 },
 "nbformat": 4,
 "nbformat_minor": 5
}
