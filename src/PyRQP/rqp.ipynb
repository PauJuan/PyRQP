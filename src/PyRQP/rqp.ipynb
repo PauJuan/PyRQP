{
 "cells": [
  {
   "cell_type": "code",
   "execution_count": 142,
   "id": "a9133a6c-0007-49d7-9ca4-abc07a28498b",
   "metadata": {},
   "outputs": [],
   "source": [
    "import matplotlib.pyplot as plt\n",
    "import numpy as np\n",
    "import pandas as pd\n",
    "import scipy\n",
    "import seaborn as sns"
   ]
  },
  {
   "cell_type": "markdown",
   "id": "e0b96aa4-5e16-4054-ac73-5d455109f890",
   "metadata": {},
   "source": [
    "# PyRQP"
   ]
  },
  {
   "cell_type": "markdown",
   "id": "06d1a557-694c-4688-ba56-1be369f36f4d",
   "metadata": {},
   "source": [
    "## Input parameters"
   ]
  },
  {
   "cell_type": "code",
   "execution_count": 143,
   "id": "bbc8170e-a66a-4d27-bb18-13b5a07b3491",
   "metadata": {},
   "outputs": [],
   "source": [
    "# Flows\n",
    "riv_flow_mean = 100\n",
    "riv_flow_95pc = 20\n",
    "dis_flow_mean = 20\n",
    "dis_flow_sd = 8\n",
    "\n",
    "# Water quality\n",
    "riv_wq_mean = 2\n",
    "riv_wq_sd = 1\n",
    "dis_wq_mean = 15\n",
    "dis_wq_sd = 7\n",
    "\n",
    "# Correlations\n",
    "corr_riv_dis_flow = 0.6\n",
    "corr_riv_flow_wq = -0.3\n",
    "corr_dis_flow_wq = -0.2"
   ]
  },
  {
   "cell_type": "markdown",
   "id": "df16c84b-118f-4163-8112-fc25d59bfd5f",
   "metadata": {},
   "source": [
    "## Prepare all functionality"
   ]
  },
  {
   "cell_type": "code",
   "execution_count": 144,
   "id": "328fafe7-b355-4def-ab01-317ae62dd700",
   "metadata": {},
   "outputs": [],
   "source": [
    "def transform_log_to_normal(lg_mean, lg_sd):\n",
    "    \"\"\" \n",
    "    Transformation from log mean and sd to normal \n",
    "    mean and sd using the method of moments\n",
    "    \"\"\"\n",
    "    mean = np.log(lg_mean / ((1 + ((lg_sd**2) / (lg_mean**2))) ** 0.5))\n",
    "    sd = (np.log(1 + (lg_sd**2) / (lg_mean**2))) ** 0.5\n",
    "    return mean, sd"
   ]
  },
  {
   "cell_type": "code",
   "execution_count": 145,
   "id": "8d68d3db-543f-4381-8dd3-bfada950eb8b",
   "metadata": {},
   "outputs": [],
   "source": [
    "def calculate_covariance(corr, std_1, std_2):\n",
    "    \"\"\"\n",
    "    This formula takes a correlation and two std\n",
    "    and calculates the covariance matrix\n",
    "    \"\"\"\n",
    "    cov = corr * std_1 * std_2\n",
    "    return cov"
   ]
  },
  {
   "cell_type": "code",
   "execution_count": 146,
   "id": "5e349e7b-fcee-4d13-b180-1cd3d1455ed2",
   "metadata": {},
   "outputs": [],
   "source": [
    "def calculate_multivariate_log_normal(\n",
    "    mean1, std1, mean2, std2, mean3, std3, mean4, std4, corr1_2, corr1_3, corr2_4\n",
    "):\n",
    "    \"\"\" \"\"\"\n",
    "    # Transform to normal\n",
    "    mean1, std1 = transform_log_to_normal(mean1, std1)\n",
    "    mean2, std2 = transform_log_to_normal(mean2, std2)\n",
    "    mean3, std3 = transform_log_to_normal(mean3, std3)\n",
    "    mean4, std4 = transform_log_to_normal(mean4, std4)\n",
    "\n",
    "    # Calculate covariances\n",
    "    cov1_2 = calculate_covariance(corr1_2, std1, std2)\n",
    "    cov1_3 = calculate_covariance(corr1_3, std1, std3)\n",
    "    cov2_4 = calculate_covariance(corr2_4, std2, std4)\n",
    "\n",
    "    # Build covariance matrix\n",
    "    cov_matrix = [\n",
    "        [std1**2, cov1_2, cov1_3, 0],\n",
    "        [cov1_2, std2**2, 0, cov2_4],\n",
    "        [cov1_3, 0, std3**2, 0],\n",
    "        [0, cov2_4, 0, std4**2],\n",
    "    ]\n",
    "    cov_matrix = np.array(cov_matrix)\n",
    "\n",
    "    # Generate normal random multivariate\n",
    "    data = np.random.multivariate_normal(\n",
    "        [mean1, mean2, mean3, mean4], cov_matrix, size=100000\n",
    "    )\n",
    "\n",
    "    # Transform to lognormal\n",
    "    data = np.exp(data)\n",
    "\n",
    "    df = pd.DataFrame(data, columns=[\"riv_flow\", \"dis_flow\", \"riv_qual\", \"dis_qual\"])\n",
    "\n",
    "    return df, cov_matrix"
   ]
  },
  {
   "cell_type": "code",
   "execution_count": 147,
   "id": "d05f8aaf-6ce8-461d-a2cf-2feb7cf7987d",
   "metadata": {},
   "outputs": [],
   "source": [
    "def calculate_log_mean_sd_from_95pc(lg_mean, lg_95pc):\n",
    "    \"\"\"\n",
    "    Calculate the underlying normal sd from the lognormal\n",
    "    mean and 95th low flow percentile\n",
    "    \"\"\"\n",
    "    sd = (2.705543 + 2*np.log(lg_mean) - 2*np.log(lg_95pc)) ** 0.5 - 1.644854\n",
    "    mean = np.log(lg_mean) - 0.5 * (sd**0.5)\n",
    "    lg_sd = lg_mean * (np.exp(sd**2) - 1) ** 0.5\n",
    "    return lg_mean, lg_sd"
   ]
  },
  {
   "cell_type": "markdown",
   "id": "50c70c0e-9a5f-45a7-a9ba-dd75b5abccec",
   "metadata": {
    "jp-MarkdownHeadingCollapsed": true,
    "tags": []
   },
   "source": [
    "#### Demonstration"
   ]
  },
  {
   "cell_type": "markdown",
   "id": "1d6aae69-58df-4574-997e-a4f014da7a11",
   "metadata": {
    "jp-MarkdownHeadingCollapsed": true,
    "tags": []
   },
   "source": [
    "Let's call the (as yet unknown) mean and standard deviation of the underlying normal $\\mu$ and $\\sigma$, so $X \\sim N(\\mu,\\sigma^2)$, and the (known) mean of the lognormal $m_Y$ with $5th$ percentile value $Y_{(0.05)}$, where $Y=e^X$.\n",
    "\n",
    "Then we should have:\n",
    "\n",
    "(1) $$m_Y=\\exp(\\mu+\\frac12\\sigma^2)$$\n",
    "\n",
    "(2) $$Y_{(0.05)} = \\exp(\\mu+ \\Phi^{-1}(0.05) \\sigma)$$\n",
    "\n",
    "where $\\Phi^{-1}(0.05)$ is the $5th$ percentile value of a standard normal, about $−1.644854$\n",
    "\n",
    "Taking the log:\n",
    "\n",
    "(1) $$\\log(m_Y)=\\mu+\\frac12\\sigma^2$$\n",
    "\n",
    "(2) $$\\log(Y_{(0.05)})=\\mu+ \\Phi^{-1}(0.05) \\sigma$$\n",
    "\n",
    "We solve (1) for $\\mu$ and substitute on (2), then solve (2) for $\\sigma$ by using the quadratic formula"
   ]
  },
  {
   "cell_type": "markdown",
   "id": "075088c5-7a3a-436a-988d-93909f12f5f3",
   "metadata": {},
   "source": [
    "## Calculate downstream quality"
   ]
  },
  {
   "cell_type": "code",
   "execution_count": 148,
   "id": "e8270868-90ba-479e-a902-7354ed10f237",
   "metadata": {},
   "outputs": [],
   "source": [
    "_, riv_flow_sd = calculate_log_mean_sd_from_95pc(riv_flow_mean, riv_flow_95pc)"
   ]
  },
  {
   "cell_type": "code",
   "execution_count": 149,
   "id": "5b27f13d-6071-472d-bc87-4be2a8df332e",
   "metadata": {},
   "outputs": [],
   "source": [
    "df, cov_matrix = calculate_multivariate_log_normal(\n",
    "    # Flow\n",
    "    riv_flow_mean,\n",
    "    riv_flow_sd,\n",
    "    dis_flow_mean,\n",
    "    dis_flow_sd,\n",
    "    # Quality\n",
    "    riv_wq_mean,\n",
    "    riv_wq_sd,\n",
    "    dis_wq_mean,\n",
    "    dis_wq_sd,\n",
    "    # Correlations\n",
    "    corr_riv_dis_flow,\n",
    "    corr_riv_flow_wq,\n",
    "    corr_dis_flow_wq,\n",
    ")"
   ]
  },
  {
   "cell_type": "code",
   "execution_count": 150,
   "id": "98cd7547-68a0-4d9f-af9b-2ec9eddf3d8c",
   "metadata": {},
   "outputs": [],
   "source": [
    "df = df.eval(\"ds_flow = riv_flow + dis_flow\")\n",
    "df = df.eval(\"ds_qual = (riv_flow * riv_qual + dis_flow * dis_qual) / ds_flow\")"
   ]
  },
  {
   "cell_type": "markdown",
   "id": "2d9a4049-4edc-41fb-97fb-b74722626047",
   "metadata": {},
   "source": [
    "## Calculate descriptive statistics"
   ]
  },
  {
   "cell_type": "code",
   "execution_count": 151,
   "id": "3f189d4b-1acf-4986-8a04-280b357cebab",
   "metadata": {},
   "outputs": [
    {
     "data": {
      "text/html": [
       "<div>\n",
       "<style scoped>\n",
       "    .dataframe tbody tr th:only-of-type {\n",
       "        vertical-align: middle;\n",
       "    }\n",
       "\n",
       "    .dataframe tbody tr th {\n",
       "        vertical-align: top;\n",
       "    }\n",
       "\n",
       "    .dataframe thead th {\n",
       "        text-align: right;\n",
       "    }\n",
       "</style>\n",
       "<table border=\"1\" class=\"dataframe\">\n",
       "  <thead>\n",
       "    <tr style=\"text-align: right;\">\n",
       "      <th></th>\n",
       "      <th>mean</th>\n",
       "      <th>std</th>\n",
       "      <th>90pc</th>\n",
       "      <th>95pc</th>\n",
       "      <th>99pc</th>\n",
       "    </tr>\n",
       "  </thead>\n",
       "  <tbody>\n",
       "    <tr>\n",
       "      <th>riv_flow</th>\n",
       "      <td>99.407866</td>\n",
       "      <td>91.287319</td>\n",
       "      <td>201.608063</td>\n",
       "      <td>267.894528</td>\n",
       "      <td>449.804612</td>\n",
       "    </tr>\n",
       "    <tr>\n",
       "      <th>dis_flow</th>\n",
       "      <td>19.989122</td>\n",
       "      <td>8.050631</td>\n",
       "      <td>30.455272</td>\n",
       "      <td>35.092568</td>\n",
       "      <td>45.751243</td>\n",
       "    </tr>\n",
       "    <tr>\n",
       "      <th>riv_qual</th>\n",
       "      <td>2.000222</td>\n",
       "      <td>0.999722</td>\n",
       "      <td>3.276808</td>\n",
       "      <td>3.881448</td>\n",
       "      <td>5.364351</td>\n",
       "    </tr>\n",
       "    <tr>\n",
       "      <th>dis_qual</th>\n",
       "      <td>14.978053</td>\n",
       "      <td>6.958193</td>\n",
       "      <td>24.009860</td>\n",
       "      <td>28.054329</td>\n",
       "      <td>37.680879</td>\n",
       "    </tr>\n",
       "    <tr>\n",
       "      <th>ds_flow</th>\n",
       "      <td>119.396988</td>\n",
       "      <td>95.869388</td>\n",
       "      <td>228.094762</td>\n",
       "      <td>296.504745</td>\n",
       "      <td>484.435910</td>\n",
       "    </tr>\n",
       "    <tr>\n",
       "      <th>ds_qual</th>\n",
       "      <td>4.748234</td>\n",
       "      <td>2.276109</td>\n",
       "      <td>7.649315</td>\n",
       "      <td>9.013778</td>\n",
       "      <td>12.411726</td>\n",
       "    </tr>\n",
       "  </tbody>\n",
       "</table>\n",
       "</div>"
      ],
      "text/plain": [
       "                mean        std        90pc        95pc        99pc\n",
       "riv_flow   99.407866  91.287319  201.608063  267.894528  449.804612\n",
       "dis_flow   19.989122   8.050631   30.455272   35.092568   45.751243\n",
       "riv_qual    2.000222   0.999722    3.276808    3.881448    5.364351\n",
       "dis_qual   14.978053   6.958193   24.009860   28.054329   37.680879\n",
       "ds_flow   119.396988  95.869388  228.094762  296.504745  484.435910\n",
       "ds_qual     4.748234   2.276109    7.649315    9.013778   12.411726"
      ]
     },
     "execution_count": 151,
     "metadata": {},
     "output_type": "execute_result"
    }
   ],
   "source": [
    "stats = df.agg([\"mean\", \"std\"]).T\n",
    "stats[\"90pc\"] = df.quantile(0.90)\n",
    "stats[\"95pc\"] = df.quantile(0.95)\n",
    "stats[\"99pc\"] = df.quantile(0.99)\n",
    "stats"
   ]
  },
  {
   "cell_type": "code",
   "execution_count": 152,
   "id": "89ce33ed-6eb7-47f2-8b16-04657350f39c",
   "metadata": {},
   "outputs": [
    {
     "data": {
      "text/html": [
       "<div>\n",
       "<style scoped>\n",
       "    .dataframe tbody tr th:only-of-type {\n",
       "        vertical-align: middle;\n",
       "    }\n",
       "\n",
       "    .dataframe tbody tr th {\n",
       "        vertical-align: top;\n",
       "    }\n",
       "\n",
       "    .dataframe thead th {\n",
       "        text-align: right;\n",
       "    }\n",
       "</style>\n",
       "<table border=\"1\" class=\"dataframe\">\n",
       "  <thead>\n",
       "    <tr style=\"text-align: right;\">\n",
       "      <th></th>\n",
       "      <th>riv_flow</th>\n",
       "      <th>dis_flow</th>\n",
       "      <th>riv_qual</th>\n",
       "      <th>dis_qual</th>\n",
       "      <th>ds_flow</th>\n",
       "      <th>ds_qual</th>\n",
       "    </tr>\n",
       "  </thead>\n",
       "  <tbody>\n",
       "    <tr>\n",
       "      <th>riv_flow</th>\n",
       "      <td>1.000000</td>\n",
       "      <td>0.539346</td>\n",
       "      <td>-0.227150</td>\n",
       "      <td>0.000881</td>\n",
       "      <td>0.997497</td>\n",
       "      <td>-0.462078</td>\n",
       "    </tr>\n",
       "    <tr>\n",
       "      <th>dis_flow</th>\n",
       "      <td>0.539346</td>\n",
       "      <td>1.000000</td>\n",
       "      <td>0.005186</td>\n",
       "      <td>-0.179433</td>\n",
       "      <td>0.597543</td>\n",
       "      <td>-0.188854</td>\n",
       "    </tr>\n",
       "    <tr>\n",
       "      <th>riv_qual</th>\n",
       "      <td>-0.227150</td>\n",
       "      <td>0.005186</td>\n",
       "      <td>1.000000</td>\n",
       "      <td>-0.004451</td>\n",
       "      <td>-0.215858</td>\n",
       "      <td>0.527656</td>\n",
       "    </tr>\n",
       "    <tr>\n",
       "      <th>dis_qual</th>\n",
       "      <td>0.000881</td>\n",
       "      <td>-0.179433</td>\n",
       "      <td>-0.004451</td>\n",
       "      <td>1.000000</td>\n",
       "      <td>-0.014229</td>\n",
       "      <td>0.579439</td>\n",
       "    </tr>\n",
       "    <tr>\n",
       "      <th>ds_flow</th>\n",
       "      <td>0.997497</td>\n",
       "      <td>0.597543</td>\n",
       "      <td>-0.215858</td>\n",
       "      <td>-0.014229</td>\n",
       "      <td>1.000000</td>\n",
       "      <td>-0.455852</td>\n",
       "    </tr>\n",
       "    <tr>\n",
       "      <th>ds_qual</th>\n",
       "      <td>-0.462078</td>\n",
       "      <td>-0.188854</td>\n",
       "      <td>0.527656</td>\n",
       "      <td>0.579439</td>\n",
       "      <td>-0.455852</td>\n",
       "      <td>1.000000</td>\n",
       "    </tr>\n",
       "  </tbody>\n",
       "</table>\n",
       "</div>"
      ],
      "text/plain": [
       "          riv_flow  dis_flow  riv_qual  dis_qual   ds_flow   ds_qual\n",
       "riv_flow  1.000000  0.539346 -0.227150  0.000881  0.997497 -0.462078\n",
       "dis_flow  0.539346  1.000000  0.005186 -0.179433  0.597543 -0.188854\n",
       "riv_qual -0.227150  0.005186  1.000000 -0.004451 -0.215858  0.527656\n",
       "dis_qual  0.000881 -0.179433 -0.004451  1.000000 -0.014229  0.579439\n",
       "ds_flow   0.997497  0.597543 -0.215858 -0.014229  1.000000 -0.455852\n",
       "ds_qual  -0.462078 -0.188854  0.527656  0.579439 -0.455852  1.000000"
      ]
     },
     "execution_count": 152,
     "metadata": {},
     "output_type": "execute_result"
    }
   ],
   "source": [
    "df.corr()  # This is important information that should be part of the analysis"
   ]
  },
  {
   "cell_type": "markdown",
   "id": "e9b26871-a457-4aa3-b726-482c01e3d9f4",
   "metadata": {},
   "source": [
    "## Backward calculation"
   ]
  },
  {
   "cell_type": "code",
   "execution_count": 153,
   "id": "8b696c8b-cb48-4e9d-8d21-c6059a204202",
   "metadata": {},
   "outputs": [],
   "source": [
    "target = 6\n",
    "percentile = 0.9\n",
    "# TODO Look at equation from notebook to transform from percentile to mean"
   ]
  },
  {
   "cell_type": "code",
   "execution_count": 154,
   "id": "b1baaf0a-3070-4032-bafa-ca4b01643b48",
   "metadata": {},
   "outputs": [
    {
     "name": "stdout",
     "output_type": "stream",
     "text": [
      "0.784383991587308\n"
     ]
    }
   ],
   "source": [
    "# Calculate scale factor and scale\n",
    "scale = target / df[\"ds_qual\"].quantile(percentile)\n",
    "print(scale)\n",
    "df[\"ds_qual_target\"] = df[\"ds_qual\"] * scale\n",
    "# Recalculate discharge quality target\n",
    "df = df.eval(\"dis_qual_target = (ds_flow * ds_qual_target - riv_flow * riv_qual) / dis_flow\")\n",
    "# Recalculate dis_qual_target based keeping CoV\n",
    "adj_factor = df[\"dis_qual_target\"].mean() / df[\"dis_qual\"].mean()\n",
    "df[\"dis_qual_target\"] = df[\"dis_qual\"] * adj_factor\n",
    "# Re-calculate ds water quality\n",
    "df = df.eval(\"ds_qual_target = (riv_flow * riv_qual + dis_flow * dis_qual_target) / ds_flow\")\n",
    "# Check the scale\n",
    "scale = target / df[\"ds_qual_target\"].quantile(percentile)"
   ]
  },
  {
   "cell_type": "code",
   "execution_count": 155,
   "id": "af03c878-f7e3-4749-b12f-5a0ca686c382",
   "metadata": {},
   "outputs": [
    {
     "name": "stdout",
     "output_type": "stream",
     "text": [
      "1.0494775858087015\n",
      "0.9897962498643121\n",
      "1.0022521135576778\n",
      "0.9994392653405187\n",
      "1.0001234181359155\n"
     ]
    }
   ],
   "source": [
    "while round(scale, 4) != 1:\n",
    "    print(scale)\n",
    "    # Calculate scale factor and scale\n",
    "    df[\"ds_qual_target\"] = df[\"ds_qual_target\"] * scale\n",
    "    # Recalculate discharge quality target\n",
    "    df = df.eval(\"dis_qual_target = (ds_flow * ds_qual_target - riv_flow * riv_qual) / dis_flow\")\n",
    "    # Recalculate dis_qual_target based keeping CoV\n",
    "    adj_factor = df[\"dis_qual_target\"].mean() / df[\"dis_qual\"].mean()\n",
    "    df[\"dis_qual_target\"] = df[\"dis_qual\"] * adj_factor\n",
    "    # Re-calculate ds water quality\n",
    "    df = df.eval(\"ds_qual_target = (riv_flow * riv_qual + dis_flow * dis_qual_target) / ds_flow\")\n",
    "    # Check the scale\n",
    "    scale = target / df[\"ds_qual_target\"].quantile(percentile)"
   ]
  },
  {
   "cell_type": "code",
   "execution_count": 156,
   "id": "f5965a2f-72b4-4189-9cea-d30770805b32",
   "metadata": {},
   "outputs": [
    {
     "data": {
      "text/html": [
       "<div>\n",
       "<style scoped>\n",
       "    .dataframe tbody tr th:only-of-type {\n",
       "        vertical-align: middle;\n",
       "    }\n",
       "\n",
       "    .dataframe tbody tr th {\n",
       "        vertical-align: top;\n",
       "    }\n",
       "\n",
       "    .dataframe thead th {\n",
       "        text-align: right;\n",
       "    }\n",
       "</style>\n",
       "<table border=\"1\" class=\"dataframe\">\n",
       "  <thead>\n",
       "    <tr style=\"text-align: right;\">\n",
       "      <th></th>\n",
       "      <th>mean</th>\n",
       "      <th>std</th>\n",
       "      <th>90pc</th>\n",
       "      <th>95pc</th>\n",
       "      <th>99pc</th>\n",
       "      <th>99.5pc</th>\n",
       "      <th>cov</th>\n",
       "    </tr>\n",
       "  </thead>\n",
       "  <tbody>\n",
       "    <tr>\n",
       "      <th>riv_flow</th>\n",
       "      <td>99.407866</td>\n",
       "      <td>91.287319</td>\n",
       "      <td>201.608063</td>\n",
       "      <td>267.894528</td>\n",
       "      <td>449.804612</td>\n",
       "      <td>543.181136</td>\n",
       "      <td>0.918311</td>\n",
       "    </tr>\n",
       "    <tr>\n",
       "      <th>dis_flow</th>\n",
       "      <td>19.989122</td>\n",
       "      <td>8.050631</td>\n",
       "      <td>30.455272</td>\n",
       "      <td>35.092568</td>\n",
       "      <td>45.751243</td>\n",
       "      <td>50.563864</td>\n",
       "      <td>0.402751</td>\n",
       "    </tr>\n",
       "    <tr>\n",
       "      <th>riv_qual</th>\n",
       "      <td>2.000222</td>\n",
       "      <td>0.999722</td>\n",
       "      <td>3.276808</td>\n",
       "      <td>3.881448</td>\n",
       "      <td>5.364351</td>\n",
       "      <td>6.016026</td>\n",
       "      <td>0.499806</td>\n",
       "    </tr>\n",
       "    <tr>\n",
       "      <th>dis_qual</th>\n",
       "      <td>14.978053</td>\n",
       "      <td>6.958193</td>\n",
       "      <td>24.009860</td>\n",
       "      <td>28.054329</td>\n",
       "      <td>37.680879</td>\n",
       "      <td>42.031679</td>\n",
       "      <td>0.464559</td>\n",
       "    </tr>\n",
       "    <tr>\n",
       "      <th>ds_flow</th>\n",
       "      <td>119.396988</td>\n",
       "      <td>95.869388</td>\n",
       "      <td>228.094762</td>\n",
       "      <td>296.504745</td>\n",
       "      <td>484.435910</td>\n",
       "      <td>581.879578</td>\n",
       "      <td>0.802946</td>\n",
       "    </tr>\n",
       "    <tr>\n",
       "      <th>ds_qual</th>\n",
       "      <td>4.748234</td>\n",
       "      <td>2.276109</td>\n",
       "      <td>7.649315</td>\n",
       "      <td>9.013778</td>\n",
       "      <td>12.411726</td>\n",
       "      <td>13.964811</td>\n",
       "      <td>0.479359</td>\n",
       "    </tr>\n",
       "    <tr>\n",
       "      <th>ds_qual_target</th>\n",
       "      <td>3.814799</td>\n",
       "      <td>1.703766</td>\n",
       "      <td>5.999950</td>\n",
       "      <td>7.010747</td>\n",
       "      <td>9.421602</td>\n",
       "      <td>10.462469</td>\n",
       "      <td>0.446620</td>\n",
       "    </tr>\n",
       "    <tr>\n",
       "      <th>dis_qual_target</th>\n",
       "      <td>10.643650</td>\n",
       "      <td>4.944606</td>\n",
       "      <td>17.061800</td>\n",
       "      <td>19.935866</td>\n",
       "      <td>26.776651</td>\n",
       "      <td>29.868401</td>\n",
       "      <td>0.464559</td>\n",
       "    </tr>\n",
       "  </tbody>\n",
       "</table>\n",
       "</div>"
      ],
      "text/plain": [
       "                       mean        std        90pc        95pc        99pc  \\\n",
       "riv_flow          99.407866  91.287319  201.608063  267.894528  449.804612   \n",
       "dis_flow          19.989122   8.050631   30.455272   35.092568   45.751243   \n",
       "riv_qual           2.000222   0.999722    3.276808    3.881448    5.364351   \n",
       "dis_qual          14.978053   6.958193   24.009860   28.054329   37.680879   \n",
       "ds_flow          119.396988  95.869388  228.094762  296.504745  484.435910   \n",
       "ds_qual            4.748234   2.276109    7.649315    9.013778   12.411726   \n",
       "ds_qual_target     3.814799   1.703766    5.999950    7.010747    9.421602   \n",
       "dis_qual_target   10.643650   4.944606   17.061800   19.935866   26.776651   \n",
       "\n",
       "                     99.5pc       cov  \n",
       "riv_flow         543.181136  0.918311  \n",
       "dis_flow          50.563864  0.402751  \n",
       "riv_qual           6.016026  0.499806  \n",
       "dis_qual          42.031679  0.464559  \n",
       "ds_flow          581.879578  0.802946  \n",
       "ds_qual           13.964811  0.479359  \n",
       "ds_qual_target    10.462469  0.446620  \n",
       "dis_qual_target   29.868401  0.464559  "
      ]
     },
     "execution_count": 156,
     "metadata": {},
     "output_type": "execute_result"
    }
   ],
   "source": [
    "stats = df.agg([\"mean\", \"std\"]).T\n",
    "stats[\"90pc\"] = df.quantile(0.90)\n",
    "stats[\"95pc\"] = df.quantile(0.95)\n",
    "stats[\"99pc\"] = df.quantile(0.99)\n",
    "stats[\"99.5pc\"] = df.quantile(0.995)\n",
    "stats[\"cov\"] = stats[\"std\"] / stats[\"mean\"]\n",
    "stats"
   ]
  },
  {
   "cell_type": "code",
   "execution_count": 157,
   "id": "23f93d62-e4b3-48b3-b43b-c9d35268af82",
   "metadata": {},
   "outputs": [],
   "source": [
    "# https://stats.stackexchange.com/questions/212690/the-product-of-two-lognormal-random-variables\n",
    "# https://stats.stackexchange.com/questions/627427/given-two-rvs-x-and-y-if-x-y-z-is-it-possible-to-change-the-mean-and-s?noredirect=1#comment1170511_627427\n",
    "# https://stats.stackexchange.com/questions/381988/scaling-percentiles-of-log-normal-distribution\n",
    "# https://stats.stackexchange.com/questions/344825/how-do-i-find-new-standard-deviation-from-two-means-and-their-sd\n",
    "# https://stats.libretexts.org/Bookshelves/Probability_Theory/Probability_Mathematical_Statistics_and_Stochastic_Processes_(Siegrist)/05%253A_Special_Distributions/5.12%253A_The_Lognormal_Distribution"
   ]
  }
 ],
 "metadata": {
  "kernelspec": {
   "display_name": "Python 3 (ipykernel)",
   "language": "python",
   "name": "python3"
  },
  "language_info": {
   "codemirror_mode": {
    "name": "ipython",
    "version": 3
   },
   "file_extension": ".py",
   "mimetype": "text/x-python",
   "name": "python",
   "nbconvert_exporter": "python",
   "pygments_lexer": "ipython3",
   "version": "3.10.9"
  }
 },
 "nbformat": 4,
 "nbformat_minor": 5
}
