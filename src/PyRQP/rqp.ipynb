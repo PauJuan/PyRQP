{
 "cells": [
  {
   "cell_type": "code",
   "execution_count": 30,
   "id": "a9133a6c-0007-49d7-9ca4-abc07a28498b",
   "metadata": {},
   "outputs": [],
   "source": [
    "import matplotlib.pyplot as plt\n",
    "import numpy as np\n",
    "import pandas as pd\n",
    "import scipy\n",
    "import seaborn as sns"
   ]
  },
  {
   "cell_type": "markdown",
   "id": "e0b96aa4-5e16-4054-ac73-5d455109f890",
   "metadata": {},
   "source": [
    "# PyRQP (forward calculation)"
   ]
  },
  {
   "cell_type": "markdown",
   "id": "06d1a557-694c-4688-ba56-1be369f36f4d",
   "metadata": {},
   "source": [
    "## Input parameters"
   ]
  },
  {
   "cell_type": "code",
   "execution_count": 31,
   "id": "bbc8170e-a66a-4d27-bb18-13b5a07b3491",
   "metadata": {},
   "outputs": [],
   "source": [
    "# River\n",
    "riv_flow_mean = 100\n",
    "riv_flow_sd = 93  # TODO Need to use 5th percentile\n",
    "riv_wq_mean = 2\n",
    "riv_wq_sd = 1\n",
    "\n",
    "# Discharge\n",
    "dis_flow_mean = 20\n",
    "dis_flow_sd = 8\n",
    "dis_wq_mean = 15\n",
    "dis_wq_sd = 7\n",
    "\n",
    "# Correlations\n",
    "corr_riv_dis_flow = 0.6\n",
    "corr_riv_flow_wq = -0.3\n",
    "corr_dis_flow_wq = -0.2"
   ]
  },
  {
   "cell_type": "code",
   "execution_count": 32,
   "id": "4dcfd576-7753-425d-a1ca-522ebb5e10dc",
   "metadata": {},
   "outputs": [],
   "source": [
    "# from scipy.stats import norm\n",
    "# https://stats.stackexchange.com/questions/586114/percentile-of-the-arithmetic-mean-of-a-lognormal-distribution\n",
    "# norm.ppf(0.05, loc=100, scale=59)\n",
    "# np.log(20)"
   ]
  },
  {
   "cell_type": "markdown",
   "id": "df16c84b-118f-4163-8112-fc25d59bfd5f",
   "metadata": {},
   "source": [
    "## Prepare all functionality"
   ]
  },
  {
   "cell_type": "code",
   "execution_count": 33,
   "id": "1a753c55-0435-4d99-a723-65369320286a",
   "metadata": {},
   "outputs": [],
   "source": [
    "def calculate_std_from_percentile(lg_mean, lg_perc):\n",
    "    \"\"\" \"\"\"\n",
    "    # Look at stackoverflow answer\n",
    "    return lg_sd"
   ]
  },
  {
   "cell_type": "code",
   "execution_count": 34,
   "id": "328fafe7-b355-4def-ab01-317ae62dd700",
   "metadata": {},
   "outputs": [],
   "source": [
    "def transform_log_to_normal(lg_mean, lg_sd):\n",
    "    \"\"\" \"\"\"\n",
    "    mean = np.log(lg_mean / ((1 + ((lg_sd**2) / (lg_mean**2))) ** 0.5))\n",
    "    sd = (np.log(1 + (lg_sd**2) / (lg_mean**2))) ** 0.5\n",
    "    return mean, sd"
   ]
  },
  {
   "cell_type": "code",
   "execution_count": 35,
   "id": "8d68d3db-543f-4381-8dd3-bfada950eb8b",
   "metadata": {},
   "outputs": [],
   "source": [
    "def calculate_covariance(corr, std_1, std_2):\n",
    "    \"\"\"\n",
    "    This formula takes a correlation and two std\n",
    "    and calculates the covariance matrix\n",
    "    \"\"\"\n",
    "    x = corr * np.sqrt(std_1**2 * std_2**2)\n",
    "    cov = [[std_1**2, x], [x, std_2**2]]\n",
    "    return cov"
   ]
  },
  {
   "cell_type": "code",
   "execution_count": 36,
   "id": "9fe22a68-22c2-4e89-aaa7-278b88a2f929",
   "metadata": {},
   "outputs": [],
   "source": [
    "def calculate_multivariate_normal(mean_1, mean_2, cov):\n",
    "    \"\"\"\n",
    "    This formula takes a covariation matrix and two\n",
    "    mean values and calculates a two random series of\n",
    "    multivariate variables of the specified size\n",
    "    \"\"\"\n",
    "    data = np.random.multivariate_normal([mean_1, mean_2], cov, size=10000)\n",
    "    return data"
   ]
  },
  {
   "cell_type": "code",
   "execution_count": 37,
   "id": "d19cf3f7-f487-4152-81e5-a83891ac104c",
   "metadata": {},
   "outputs": [],
   "source": [
    "def calculate_multivariate_log_normal(corr, mean_1, mean_2, std_1, std_2):\n",
    "    \"\"\" \"\"\"\n",
    "    # Transform to 'normal' statistical moments\n",
    "    mean_1, std_1 = transform_log_to_normal(mean_1, std_1)\n",
    "    mean_2, std_2 = transform_log_to_normal(mean_2, std_2)\n",
    "    # Calculate covariance\n",
    "    cov = calculate_covariance(corr, std_1, std_2)\n",
    "    # Calcualate random multivariate data\n",
    "    pts = calculate_multivariate_normal(mean_1, mean_2, cov)\n",
    "    # Transform to lognormal\n",
    "    pts = np.exp(pts)\n",
    "    return pts"
   ]
  },
  {
   "cell_type": "markdown",
   "id": "226318bf-57f9-483f-9c17-f15af6867bf2",
   "metadata": {},
   "source": [
    "## Calculate correlated lognormal random variable for each correlated series of data"
   ]
  },
  {
   "cell_type": "code",
   "execution_count": 38,
   "id": "4512c6ed-e40a-4939-a43a-3364087a2993",
   "metadata": {},
   "outputs": [],
   "source": [
    "# Correlation between river flow and quality\n",
    "pts_1 = calculate_multivariate_log_normal(\n",
    "    corr_riv_flow_wq, riv_flow_mean, riv_wq_mean, riv_flow_sd, riv_wq_sd\n",
    ")\n",
    "pts_1 = pd.DataFrame(pts_1, columns=[\"River flow\", \"River quality\"]).sort_values(\n",
    "    \"River flow\"\n",
    ")\n",
    "\n",
    "# Correlation between river flow and discharge flow\n",
    "pts_3 = calculate_multivariate_log_normal(\n",
    "    corr_riv_dis_flow, riv_flow_mean, dis_flow_mean, riv_flow_sd, dis_flow_sd\n",
    ")\n",
    "pts_3 = pd.DataFrame(pts_3, columns=[\"River flow\", \"Discharge flow\"]).sort_values(\n",
    "    \"River flow\"\n",
    ")\n",
    "\n",
    "# Correlation between discharge flow and quality\n",
    "pts_2 = calculate_multivariate_log_normal(\n",
    "    corr_dis_flow_wq, dis_flow_mean, dis_wq_mean, dis_flow_sd, dis_wq_sd\n",
    ")\n",
    "pts_2 = pd.DataFrame(\n",
    "    pts_2, columns=[\"Discharge flow\", \"Discharge quality\"]\n",
    ").sort_values(\"Discharge flow\")"
   ]
  },
  {
   "cell_type": "code",
   "execution_count": 52,
   "id": "31aa4343-a899-4219-972c-9df1f344e818",
   "metadata": {},
   "outputs": [
    {
     "data": {
      "text/html": [
       "<div>\n",
       "<style scoped>\n",
       "    .dataframe tbody tr th:only-of-type {\n",
       "        vertical-align: middle;\n",
       "    }\n",
       "\n",
       "    .dataframe tbody tr th {\n",
       "        vertical-align: top;\n",
       "    }\n",
       "\n",
       "    .dataframe thead th {\n",
       "        text-align: right;\n",
       "    }\n",
       "</style>\n",
       "<table border=\"1\" class=\"dataframe\">\n",
       "  <thead>\n",
       "    <tr style=\"text-align: right;\">\n",
       "      <th></th>\n",
       "      <th>River flow</th>\n",
       "      <th>Discharge flow</th>\n",
       "    </tr>\n",
       "  </thead>\n",
       "  <tbody>\n",
       "    <tr>\n",
       "      <th>River flow</th>\n",
       "      <td>1.000000</td>\n",
       "      <td>0.531224</td>\n",
       "    </tr>\n",
       "    <tr>\n",
       "      <th>Discharge flow</th>\n",
       "      <td>0.531224</td>\n",
       "      <td>1.000000</td>\n",
       "    </tr>\n",
       "  </tbody>\n",
       "</table>\n",
       "</div>"
      ],
      "text/plain": [
       "                River flow  Discharge flow\n",
       "River flow        1.000000        0.531224\n",
       "Discharge flow    0.531224        1.000000"
      ]
     },
     "execution_count": 52,
     "metadata": {},
     "output_type": "execute_result"
    }
   ],
   "source": [
    "pts_3.corr()\n",
    "# TODO Correlations are coming up too small\n",
    "# TODO Correlations do not seem to be preserved in the final dataframe"
   ]
  },
  {
   "cell_type": "markdown",
   "id": "8a3c8a21-aabb-46be-9ce9-a25cea102624",
   "metadata": {},
   "source": [
    "## Build master dataframe with all data"
   ]
  },
  {
   "cell_type": "code",
   "execution_count": 39,
   "id": "c1fbcc15-84d8-4f93-9949-c890d53d1f25",
   "metadata": {},
   "outputs": [],
   "source": [
    "df = pd.concat(\n",
    "    [pts_1, pts_2[\"Discharge quality\"], pts_3[\"Discharge flow\"]],\n",
    "    axis=1,\n",
    "    ignore_index=True,\n",
    ")\n",
    "df.columns = [\"River_flow\", \"River_quality\", \"Discharge_quality\", \"Discharge_flow\"]"
   ]
  },
  {
   "cell_type": "code",
   "execution_count": 50,
   "id": "08320183-f3f4-4805-8f9e-328bd961d73b",
   "metadata": {},
   "outputs": [
    {
     "data": {
      "text/html": [
       "<div>\n",
       "<style scoped>\n",
       "    .dataframe tbody tr th:only-of-type {\n",
       "        vertical-align: middle;\n",
       "    }\n",
       "\n",
       "    .dataframe tbody tr th {\n",
       "        vertical-align: top;\n",
       "    }\n",
       "\n",
       "    .dataframe thead th {\n",
       "        text-align: right;\n",
       "    }\n",
       "</style>\n",
       "<table border=\"1\" class=\"dataframe\">\n",
       "  <thead>\n",
       "    <tr style=\"text-align: right;\">\n",
       "      <th></th>\n",
       "      <th>River_flow</th>\n",
       "      <th>River_quality</th>\n",
       "      <th>Discharge_quality</th>\n",
       "      <th>Discharge_flow</th>\n",
       "      <th>Downstream_flow</th>\n",
       "      <th>Downstream_wq</th>\n",
       "    </tr>\n",
       "  </thead>\n",
       "  <tbody>\n",
       "    <tr>\n",
       "      <th>River_flow</th>\n",
       "      <td>1.000000</td>\n",
       "      <td>-0.220542</td>\n",
       "      <td>0.002271</td>\n",
       "      <td>-0.000693</td>\n",
       "      <td>0.996153</td>\n",
       "      <td>-0.475134</td>\n",
       "    </tr>\n",
       "    <tr>\n",
       "      <th>River_quality</th>\n",
       "      <td>-0.220542</td>\n",
       "      <td>1.000000</td>\n",
       "      <td>0.000960</td>\n",
       "      <td>0.007439</td>\n",
       "      <td>-0.219055</td>\n",
       "      <td>0.426252</td>\n",
       "    </tr>\n",
       "    <tr>\n",
       "      <th>Discharge_quality</th>\n",
       "      <td>0.002271</td>\n",
       "      <td>0.000960</td>\n",
       "      <td>1.000000</td>\n",
       "      <td>0.004605</td>\n",
       "      <td>0.002666</td>\n",
       "      <td>0.558358</td>\n",
       "    </tr>\n",
       "    <tr>\n",
       "      <th>Discharge_flow</th>\n",
       "      <td>-0.000693</td>\n",
       "      <td>0.007439</td>\n",
       "      <td>0.004605</td>\n",
       "      <td>1.000000</td>\n",
       "      <td>0.086944</td>\n",
       "      <td>0.280303</td>\n",
       "    </tr>\n",
       "    <tr>\n",
       "      <th>Downstream_flow</th>\n",
       "      <td>0.996153</td>\n",
       "      <td>-0.219055</td>\n",
       "      <td>0.002666</td>\n",
       "      <td>0.086944</td>\n",
       "      <td>1.000000</td>\n",
       "      <td>-0.448771</td>\n",
       "    </tr>\n",
       "    <tr>\n",
       "      <th>Downstream_wq</th>\n",
       "      <td>-0.475134</td>\n",
       "      <td>0.426252</td>\n",
       "      <td>0.558358</td>\n",
       "      <td>0.280303</td>\n",
       "      <td>-0.448771</td>\n",
       "      <td>1.000000</td>\n",
       "    </tr>\n",
       "  </tbody>\n",
       "</table>\n",
       "</div>"
      ],
      "text/plain": [
       "                   River_flow  River_quality  Discharge_quality  \\\n",
       "River_flow           1.000000      -0.220542           0.002271   \n",
       "River_quality       -0.220542       1.000000           0.000960   \n",
       "Discharge_quality    0.002271       0.000960           1.000000   \n",
       "Discharge_flow      -0.000693       0.007439           0.004605   \n",
       "Downstream_flow      0.996153      -0.219055           0.002666   \n",
       "Downstream_wq       -0.475134       0.426252           0.558358   \n",
       "\n",
       "                   Discharge_flow  Downstream_flow  Downstream_wq  \n",
       "River_flow              -0.000693         0.996153      -0.475134  \n",
       "River_quality            0.007439        -0.219055       0.426252  \n",
       "Discharge_quality        0.004605         0.002666       0.558358  \n",
       "Discharge_flow           1.000000         0.086944       0.280303  \n",
       "Downstream_flow          0.086944         1.000000      -0.448771  \n",
       "Downstream_wq            0.280303        -0.448771       1.000000  "
      ]
     },
     "execution_count": 50,
     "metadata": {},
     "output_type": "execute_result"
    }
   ],
   "source": [
    "df.corr()"
   ]
  },
  {
   "cell_type": "markdown",
   "id": "e046f22a-6b56-4581-ab66-09d81b23469b",
   "metadata": {},
   "source": [
    "## Calculate downstream quality column"
   ]
  },
  {
   "cell_type": "code",
   "execution_count": 40,
   "id": "98cd7547-68a0-4d9f-af9b-2ec9eddf3d8c",
   "metadata": {},
   "outputs": [],
   "source": [
    "df = df.eval(\"Downstream_flow = River_flow + Discharge_flow\")\n",
    "\n",
    "df = df.eval(\n",
    "    \"Downstream_wq = (River_flow * River_quality + Discharge_flow * Discharge_quality) / Downstream_flow\"\n",
    ")"
   ]
  },
  {
   "cell_type": "markdown",
   "id": "2d9a4049-4edc-41fb-97fb-b74722626047",
   "metadata": {},
   "source": [
    "## Calculate descriptive statistics"
   ]
  },
  {
   "cell_type": "code",
   "execution_count": 42,
   "id": "6da401f2-478b-4bfa-aad0-279fe4c8ecad",
   "metadata": {},
   "outputs": [],
   "source": [
    "stats = df.describe().T"
   ]
  },
  {
   "cell_type": "code",
   "execution_count": 43,
   "id": "91883a37-a5f7-48f2-aa38-a83329f16325",
   "metadata": {},
   "outputs": [
    {
     "data": {
      "text/html": [
       "<div>\n",
       "<style scoped>\n",
       "    .dataframe tbody tr th:only-of-type {\n",
       "        vertical-align: middle;\n",
       "    }\n",
       "\n",
       "    .dataframe tbody tr th {\n",
       "        vertical-align: top;\n",
       "    }\n",
       "\n",
       "    .dataframe thead th {\n",
       "        text-align: right;\n",
       "    }\n",
       "</style>\n",
       "<table border=\"1\" class=\"dataframe\">\n",
       "  <thead>\n",
       "    <tr style=\"text-align: right;\">\n",
       "      <th></th>\n",
       "      <th>count</th>\n",
       "      <th>mean</th>\n",
       "      <th>std</th>\n",
       "      <th>min</th>\n",
       "      <th>25%</th>\n",
       "      <th>50%</th>\n",
       "      <th>75%</th>\n",
       "      <th>max</th>\n",
       "    </tr>\n",
       "  </thead>\n",
       "  <tbody>\n",
       "    <tr>\n",
       "      <th>River_flow</th>\n",
       "      <td>10000.0</td>\n",
       "      <td>99.669924</td>\n",
       "      <td>90.535833</td>\n",
       "      <td>2.296989</td>\n",
       "      <td>43.033032</td>\n",
       "      <td>73.567100</td>\n",
       "      <td>125.723831</td>\n",
       "      <td>1642.252863</td>\n",
       "    </tr>\n",
       "    <tr>\n",
       "      <th>River_quality</th>\n",
       "      <td>10000.0</td>\n",
       "      <td>2.005442</td>\n",
       "      <td>1.001687</td>\n",
       "      <td>0.315449</td>\n",
       "      <td>1.302094</td>\n",
       "      <td>1.798922</td>\n",
       "      <td>2.459119</td>\n",
       "      <td>10.531130</td>\n",
       "    </tr>\n",
       "    <tr>\n",
       "      <th>Discharge_quality</th>\n",
       "      <td>10000.0</td>\n",
       "      <td>14.854950</td>\n",
       "      <td>6.929022</td>\n",
       "      <td>2.688474</td>\n",
       "      <td>9.957376</td>\n",
       "      <td>13.407400</td>\n",
       "      <td>18.154576</td>\n",
       "      <td>84.648378</td>\n",
       "    </tr>\n",
       "    <tr>\n",
       "      <th>Discharge_flow</th>\n",
       "      <td>10000.0</td>\n",
       "      <td>19.929258</td>\n",
       "      <td>7.964164</td>\n",
       "      <td>4.127645</td>\n",
       "      <td>14.183467</td>\n",
       "      <td>18.413503</td>\n",
       "      <td>24.026687</td>\n",
       "      <td>71.293885</td>\n",
       "    </tr>\n",
       "    <tr>\n",
       "      <th>Downstream_flow</th>\n",
       "      <td>10000.0</td>\n",
       "      <td>119.599182</td>\n",
       "      <td>90.879955</td>\n",
       "      <td>16.906494</td>\n",
       "      <td>63.175466</td>\n",
       "      <td>94.472096</td>\n",
       "      <td>146.031128</td>\n",
       "      <td>1662.076759</td>\n",
       "    </tr>\n",
       "    <tr>\n",
       "      <th>Downstream_wq</th>\n",
       "      <td>10000.0</td>\n",
       "      <td>4.944275</td>\n",
       "      <td>2.823561</td>\n",
       "      <td>0.710699</td>\n",
       "      <td>3.008313</td>\n",
       "      <td>4.275745</td>\n",
       "      <td>6.069018</td>\n",
       "      <td>32.052629</td>\n",
       "    </tr>\n",
       "  </tbody>\n",
       "</table>\n",
       "</div>"
      ],
      "text/plain": [
       "                     count        mean        std        min        25%  \\\n",
       "River_flow         10000.0   99.669924  90.535833   2.296989  43.033032   \n",
       "River_quality      10000.0    2.005442   1.001687   0.315449   1.302094   \n",
       "Discharge_quality  10000.0   14.854950   6.929022   2.688474   9.957376   \n",
       "Discharge_flow     10000.0   19.929258   7.964164   4.127645  14.183467   \n",
       "Downstream_flow    10000.0  119.599182  90.879955  16.906494  63.175466   \n",
       "Downstream_wq      10000.0    4.944275   2.823561   0.710699   3.008313   \n",
       "\n",
       "                         50%         75%          max  \n",
       "River_flow         73.567100  125.723831  1642.252863  \n",
       "River_quality       1.798922    2.459119    10.531130  \n",
       "Discharge_quality  13.407400   18.154576    84.648378  \n",
       "Discharge_flow     18.413503   24.026687    71.293885  \n",
       "Downstream_flow    94.472096  146.031128  1662.076759  \n",
       "Downstream_wq       4.275745    6.069018    32.052629  "
      ]
     },
     "execution_count": 43,
     "metadata": {},
     "output_type": "execute_result"
    }
   ],
   "source": [
    "stats"
   ]
  },
  {
   "cell_type": "code",
   "execution_count": 44,
   "id": "03d717e2-3792-4146-97fe-e36131309de3",
   "metadata": {},
   "outputs": [],
   "source": [
    "stats[\"90pc\"] = df.quantile(0.90)\n",
    "stats[\"95pc\"] = df.quantile(0.95)\n",
    "stats[\"99pc\"] = df.quantile(0.99)"
   ]
  },
  {
   "cell_type": "markdown",
   "id": "93ed685f-4f41-441e-8163-8bb836a3053d",
   "metadata": {},
   "source": [
    "# TODO\n",
    "\n",
    "- Transform into a proper GitHub library\n",
    "- Add extra functionality\n",
    "    - Backward calculations\n",
    "    - Decay (with optional decay rate and time or distance plus alpha/beta values)\n",
    "    - Visualisation (e.g., histograms)"
   ]
  }
 ],
 "metadata": {
  "kernelspec": {
   "display_name": "Python 3 (ipykernel)",
   "language": "python",
   "name": "python3"
  },
  "language_info": {
   "codemirror_mode": {
    "name": "ipython",
    "version": 3
   },
   "file_extension": ".py",
   "mimetype": "text/x-python",
   "name": "python",
   "nbconvert_exporter": "python",
   "pygments_lexer": "ipython3",
   "version": "3.10.9"
  }
 },
 "nbformat": 4,
 "nbformat_minor": 5
}
