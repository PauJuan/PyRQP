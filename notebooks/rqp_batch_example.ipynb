{
 "cells": [
  {
   "cell_type": "markdown",
   "id": "2ff2b06f-294c-4814-ab7d-22a45b2b092c",
   "metadata": {},
   "source": [
    "# Batch processing using an excel template"
   ]
  },
  {
   "cell_type": "code",
   "execution_count": 1,
   "id": "5c540afc-6d29-4c31-96c2-1efd2cb62bb5",
   "metadata": {},
   "outputs": [],
   "source": [
    "import sys\n",
    "sys.path.append('../src/PyRQP/')  # Path to the library code if not installed\n",
    "import rqp"
   ]
  },
  {
   "cell_type": "code",
   "execution_count": 2,
   "id": "7c311f4a-0414-4be2-9933-897aebc5d6cd",
   "metadata": {},
   "outputs": [],
   "source": [
    "file = r\"C:\\Users\\GARC7680\\Data\\Dev\\SAGIS\\PyRQP\\notebooks\\data\\template.xlsx\""
   ]
  },
  {
   "cell_type": "code",
   "execution_count": 3,
   "id": "4a604ca3-d7d4-4160-b5cb-6b7c3792c975",
   "metadata": {},
   "outputs": [],
   "source": [
    "rqp.process_excel_file(file)"
   ]
  }
 ],
 "metadata": {
  "kernelspec": {
   "display_name": "Python 3 (ipykernel)",
   "language": "python",
   "name": "python3"
  },
  "language_info": {
   "codemirror_mode": {
    "name": "ipython",
    "version": 3
   },
   "file_extension": ".py",
   "mimetype": "text/x-python",
   "name": "python",
   "nbconvert_exporter": "python",
   "pygments_lexer": "ipython3",
   "version": "3.10.9"
  }
 },
 "nbformat": 4,
 "nbformat_minor": 5
}
