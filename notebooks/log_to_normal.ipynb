{
 "cells": [
  {
   "cell_type": "code",
   "execution_count": 1,
   "id": "e10eeeee-728a-451e-b31a-475aa64506ca",
   "metadata": {},
   "outputs": [],
   "source": [
    "import matplotlib.pyplot as plt\n",
    "import numpy as np\n",
    "import pandas as pd\n",
    "import scipy\n",
    "import seaborn as sns"
   ]
  },
  {
   "cell_type": "markdown",
   "id": "7a3d995b-c172-4a9c-8253-4fdf3f1bdad7",
   "metadata": {},
   "source": [
    "## Create random data from specific stats"
   ]
  },
  {
   "cell_type": "markdown",
   "id": "12cc45fc-75ff-4efc-91f6-5251972b57c2",
   "metadata": {},
   "source": [
    "https://stats.stackexchange.com/questions/469311/how-to-calculate-mean-and-sd-of-lognormal-distribution-based-on-meanlog-an\n",
    "\n",
    "https://stackoverflow.com/questions/68361048/how-to-generate-lognormal-distribution-with-specific-mean-and-std-in-python\n",
    "\n",
    "https://stackoverflow.com/questions/72114379/transforming-a-lognormal-mean-and-sd-into-normal-mean-and-sd\n",
    "\n",
    "https://www.wikiwand.com/en/Log-normal_distribution\n",
    "\n",
    "Take a look at this: https://stats.stackexchange.com/questions/572987/convert-from-log-normal-distribution-to-normal-distribution\n",
    "\n",
    "And also: https://stats.stackexchange.com/questions/158123/lognormal-distribution-using-normal-distribution-inputs"
   ]
  },
  {
   "cell_type": "markdown",
   "id": "a9ea1aa8-1d5b-4c09-84da-4f8ee9cd2bd3",
   "metadata": {
    "tags": []
   },
   "source": [
    "### From Peter's code (SIMCAT)\n",
    "\n",
    "'Generate log normal random deviate [check with SIMCAT manual]\n",
    "\n",
    "LGST = (Log(1 + (SD ^ 2) / (Mean ^ 2))) ^ 0.5\n",
    "\n",
    "LGMean = Log(Mean / ((1 + ((SD ^ 2) / (Mean ^ 2))) ^ 0.5))"
   ]
  },
  {
   "cell_type": "markdown",
   "id": "9c01c56c-f03e-4022-96ab-199f5ff11916",
   "metadata": {
    "tags": []
   },
   "source": [
    "## Calculate 'normal' meand and std"
   ]
  },
  {
   "cell_type": "code",
   "execution_count": 49,
   "id": "6d59624f-a98c-4dfd-b7cc-f670e462b0a2",
   "metadata": {},
   "outputs": [],
   "source": [
    "lg_mean = 100\n",
    "lg_sd = 93"
   ]
  },
  {
   "cell_type": "code",
   "execution_count": 50,
   "id": "8af9c355-7cfd-4558-9872-901e9c351d13",
   "metadata": {
    "tags": []
   },
   "outputs": [],
   "source": [
    "# https://en.wikipedia.org/wiki/Method_of_moments_(statistics)\n",
    "# and\n",
    "# https://stats.stackexchange.com/questions/95498/how-to-calculate-log-normal-parameters-using-the-mean-and-std-of-the-given-distr\n",
    "mean = np.log(lg_mean / ((1 + ((lg_sd**2) / (lg_mean**2))) ** 0.5))\n",
    "sd = (np.log(1 + (lg_sd**2) / (lg_mean**2))) ** 0.5"
   ]
  },
  {
   "cell_type": "code",
   "execution_count": 51,
   "id": "cba68410",
   "metadata": {
    "tags": []
   },
   "outputs": [],
   "source": [
    "dist = np.random.lognormal(mean, sd, 100000)"
   ]
  },
  {
   "cell_type": "code",
   "execution_count": 52,
   "id": "8b7be16a",
   "metadata": {},
   "outputs": [
    {
     "data": {
      "text/plain": [
       "<Axes: xlabel='0', ylabel='Count'>"
      ]
     },
     "execution_count": 52,
     "metadata": {},
     "output_type": "execute_result"
    },
    {
     "data": {
      "image/png": "[encoded data removed]",
      "text/plain": [
       "<Figure size 640x480 with 1 Axes>"
      ]
     },
     "metadata": {},
     "output_type": "display_data"
    }
   ],
   "source": [
    "sns.histplot(data=pd.DataFrame(dist), x=0, kde=True)"
   ]
  },
  {
   "cell_type": "markdown",
   "id": "d01432e6-00c9-487c-8915-70df1d37b1cc",
   "metadata": {},
   "source": [
    "### 5th percentile can be converted directly"
   ]
  },
  {
   "cell_type": "code",
   "execution_count": 53,
   "id": "9c7e09ac-4c77-4012-90cf-0d00873ca4fa",
   "metadata": {},
   "outputs": [
    {
     "data": {
      "text/plain": [
       "19.97279368994311"
      ]
     },
     "execution_count": 53,
     "metadata": {},
     "output_type": "execute_result"
    }
   ],
   "source": [
    "np.quantile(dist, q=0.05)"
   ]
  },
  {
   "cell_type": "code",
   "execution_count": 54,
   "id": "e4768223-3240-49d1-82e3-709fe482fef0",
   "metadata": {},
   "outputs": [
    {
     "data": {
      "text/plain": [
       "(99.97418983295725, 93.48821563165362)"
      ]
     },
     "execution_count": 54,
     "metadata": {},
     "output_type": "execute_result"
    }
   ],
   "source": [
    "dist.mean(), dist.std()"
   ]
  },
  {
   "cell_type": "code",
   "execution_count": 55,
   "id": "a763da2c-98ac-4bc9-acf6-57c3a7923477",
   "metadata": {},
   "outputs": [
    {
     "data": {
      "text/plain": [
       "2.995061641497374"
      ]
     },
     "execution_count": 55,
     "metadata": {},
     "output_type": "execute_result"
    }
   ],
   "source": [
    "# https://stats.stackexchange.com/questions/586114/percentile-of-the-arithmetic-mean-of-a-lognormal-distribution\n",
    "from scipy.stats import norm\n",
    "\n",
    "norm.ppf(0.05, loc=mean, scale=sd)"
   ]
  },
  {
   "cell_type": "code",
   "execution_count": 56,
   "id": "eea1f3fb-121f-40f5-9e5b-25b762bc0734",
   "metadata": {},
   "outputs": [],
   "source": [
    "# https://docs.scipy.org/doc/scipy/reference/generated/scipy.stats.lognorm.html#scipy.stats.lognorm\n",
    "from scipy.stats import lognorm\n",
    "\n",
    "lg_05 = lognorm.ppf(0.05, s=sd, scale=np.exp(mean))"
   ]
  },
  {
   "cell_type": "code",
   "execution_count": 57,
   "id": "8e025cf2-a114-4c4d-8216-a9131c5e3e90",
   "metadata": {},
   "outputs": [
    {
     "data": {
      "text/plain": [
       "19.986591855336005"
      ]
     },
     "execution_count": 57,
     "metadata": {},
     "output_type": "execute_result"
    }
   ],
   "source": [
    "lg_05"
   ]
  },
  {
   "cell_type": "code",
   "execution_count": 58,
   "id": "954b19b4-fdfc-4c5a-81ba-5d80cea16535",
   "metadata": {},
   "outputs": [
    {
     "data": {
      "text/plain": [
       "2.9950570456389234"
      ]
     },
     "execution_count": 58,
     "metadata": {},
     "output_type": "execute_result"
    }
   ],
   "source": [
    "np.log(19.9865)"
   ]
  },
  {
   "cell_type": "code",
   "execution_count": 59,
   "id": "ad6236c5-ff81-4288-b327-8d1aac239d00",
   "metadata": {},
   "outputs": [
    {
     "data": {
      "text/plain": [
       "3.0044609259318347"
      ]
     },
     "execution_count": 59,
     "metadata": {},
     "output_type": "execute_result"
    }
   ],
   "source": [
    "norm_dist = np.random.normal(mean, sd, 100000)\n",
    "np.quantile(norm_dist, q=0.05)"
   ]
  },
  {
   "cell_type": "markdown",
   "id": "40191b5c-eaf9-4d2b-b3d5-5dbd6451367d",
   "metadata": {},
   "source": [
    "## Testing LogFCf (black_mc.for)"
   ]
  },
  {
   "cell_type": "markdown",
   "id": "01e9b342-ef40-4ac3-9a47-6a522ea5d6c2",
   "metadata": {},
   "source": [
    "Standard deviation in log domain\n",
    "\n",
    "`grfs = SQRT( 2.7057 + 2.*ALOG((rfm + fsh)/(rf5 + fsh))) - 1.6449`\n",
    "\n",
    "Mean in log domain\n",
    "\n",
    "`grfm = ALOG (rfm + fsh) - 0.5 * grfs * grfs`\n",
    "\n",
    "Compute standard deviation of unlogged flows\n",
    "\n",
    "`rfs = rfm * SQRT ( EXP( grfs * grfs ) - 1.0 )`"
   ]
  },
  {
   "cell_type": "code",
   "execution_count": 78,
   "id": "ba1d8e54-86c5-46c8-bd61-941100b7bc87",
   "metadata": {},
   "outputs": [],
   "source": [
    "sd_2 = (2.7057 + 2 * np.log(lg_mean / lg_05)) ** 0.5 - 1.6469"
   ]
  },
  {
   "cell_type": "code",
   "execution_count": 79,
   "id": "315e383b-7d0a-41b7-89f3-740cdcb1c9fd",
   "metadata": {},
   "outputs": [
    {
     "data": {
      "text/plain": [
       "(0.7894348816433585, 0.7874206627273725)"
      ]
     },
     "execution_count": 79,
     "metadata": {},
     "output_type": "execute_result"
    }
   ],
   "source": [
    "sd, sd_2"
   ]
  },
  {
   "cell_type": "code",
   "execution_count": 82,
   "id": "1e1c1507-33e8-4249-96d4-9690528f4a44",
   "metadata": {},
   "outputs": [],
   "source": [
    "mean_2 = np.log(lg_mean) - 0.5 * sd_2**2"
   ]
  },
  {
   "cell_type": "code",
   "execution_count": 83,
   "id": "3d080fc9-3b3c-4503-81c5-a6c95aa2d2ec",
   "metadata": {},
   "outputs": [
    {
     "data": {
      "text/plain": [
       "(4.293566469810459, 4.295154535943085)"
      ]
     },
     "execution_count": 83,
     "metadata": {},
     "output_type": "execute_result"
    }
   ],
   "source": [
    "mean, mean_2"
   ]
  },
  {
   "cell_type": "code",
   "execution_count": 76,
   "id": "fb2aef39-b70d-4283-9903-f00f4c05d46b",
   "metadata": {},
   "outputs": [],
   "source": [
    "lg_sd_2 = lg_mean * (np.exp(sd_2**2) - 1) ** 0.5"
   ]
  },
  {
   "cell_type": "code",
   "execution_count": 77,
   "id": "6adfeee5-3e26-42fb-bd05-9ef823fa980d",
   "metadata": {},
   "outputs": [
    {
     "data": {
      "text/plain": [
       "(93, 92.63800352084395)"
      ]
     },
     "execution_count": 77,
     "metadata": {},
     "output_type": "execute_result"
    }
   ],
   "source": [
    "lg_sd, lg_sd_2"
   ]
  }
 ],
 "metadata": {
  "kernelspec": {
   "display_name": "Python 3 (ipykernel)",
   "language": "python",
   "name": "python3"
  },
  "language_info": {
   "codemirror_mode": {
    "name": "ipython",
    "version": 3
   },
   "file_extension": ".py",
   "mimetype": "text/x-python",
   "name": "python",
   "nbconvert_exporter": "python",
   "pygments_lexer": "ipython3",
   "version": "3.10.9"
  }
 },
 "nbformat": 4,
 "nbformat_minor": 5
}
