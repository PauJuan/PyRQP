{
 "cells": [
  {
   "cell_type": "code",
   "execution_count": 31,
   "id": "a9133a6c-0007-49d7-9ca4-abc07a28498b",
   "metadata": {},
   "outputs": [],
   "source": [
    "import numpy as np\n",
    "import pandas as pd"
   ]
  },
  {
   "cell_type": "markdown",
   "id": "e0b96aa4-5e16-4054-ac73-5d455109f890",
   "metadata": {},
   "source": [
    "# PyRQP proof of concept"
   ]
  },
  {
   "cell_type": "markdown",
   "id": "06d1a557-694c-4688-ba56-1be369f36f4d",
   "metadata": {},
   "source": [
    "## Input parameters"
   ]
  },
  {
   "cell_type": "code",
   "execution_count": 32,
   "id": "bbc8170e-a66a-4d27-bb18-13b5a07b3491",
   "metadata": {},
   "outputs": [],
   "source": [
    "# Flows\n",
    "riv_flow_mean = 100\n",
    "riv_flow_95pc = 20\n",
    "dis_flow_mean = 20\n",
    "dis_flow_sd = 8\n",
    "\n",
    "# Water quality\n",
    "riv_wq_mean = 2\n",
    "riv_wq_sd = 1\n",
    "dis_wq_mean = 15\n",
    "dis_wq_sd = 7\n",
    "\n",
    "# Correlations\n",
    "corr_riv_dis_flow = 0.6\n",
    "corr_riv_flow_wq = -0.3\n",
    "corr_dis_flow_wq = -0.2\n",
    "\n",
    "# Random seed for reproducibility\n",
    "np.random.seed(42)"
   ]
  },
  {
   "cell_type": "markdown",
   "id": "df16c84b-118f-4163-8112-fc25d59bfd5f",
   "metadata": {},
   "source": [
    "## Functions"
   ]
  },
  {
   "cell_type": "code",
   "execution_count": 33,
   "id": "328fafe7-b355-4def-ab01-317ae62dd700",
   "metadata": {},
   "outputs": [],
   "source": [
    "def transform_log_to_normal(lg_mean, lg_sd):\n",
    "    \"\"\" \n",
    "    Transformation from log mean and sd to normal \n",
    "    mean and sd using the method of moments\n",
    "    \"\"\"\n",
    "    mean = np.log(lg_mean / ((1 + ((lg_sd**2) / (lg_mean**2))) ** 0.5))\n",
    "    sd = (np.log(1 + (lg_sd**2) / (lg_mean**2))) ** 0.5\n",
    "    return mean, sd"
   ]
  },
  {
   "cell_type": "code",
   "execution_count": 34,
   "id": "8d68d3db-543f-4381-8dd3-bfada950eb8b",
   "metadata": {},
   "outputs": [],
   "source": [
    "def calculate_covariance(corr, std_1, std_2):\n",
    "    \"\"\"\n",
    "    This formula takes a correlation and two std\n",
    "    and calculates the covariance\n",
    "    \"\"\"\n",
    "    cov = corr * std_1 * std_2\n",
    "    return cov"
   ]
  },
  {
   "cell_type": "code",
   "execution_count": 35,
   "id": "d05f8aaf-6ce8-461d-a2cf-2feb7cf7987d",
   "metadata": {},
   "outputs": [],
   "source": [
    "def calculate_log_mean_sd_from_95pc(lg_mean, lg_95pc):\n",
    "    \"\"\"\n",
    "    Calculate the underlying normal sd from the lognormal\n",
    "    mean and 95th low flow percentile\n",
    "    \"\"\"\n",
    "    sd = (2.705543 + 2*np.log(lg_mean) - 2*np.log(lg_95pc)) ** 0.5 - 1.644854\n",
    "    mean = np.log(lg_mean) - 0.5 * (sd**0.5)\n",
    "    lg_sd = lg_mean * (np.exp(sd**2) - 1) ** 0.5\n",
    "    return lg_mean, lg_sd"
   ]
  },
  {
   "cell_type": "code",
   "execution_count": 36,
   "id": "5e349e7b-fcee-4d13-b180-1cd3d1455ed2",
   "metadata": {},
   "outputs": [],
   "source": [
    "def calculate_multivariate_log_normal(\n",
    "    mean1, std1, mean2, std2, mean3, std3, mean4, std4, corr1_2, corr1_3, corr2_4\n",
    "):\n",
    "    \"\"\" \n",
    "    The main equation in RQP to generate the lognormal \n",
    "    random multivariate dataset\n",
    "    \"\"\"\n",
    "    # Transform parameters to normal\n",
    "    mean1, std1 = transform_log_to_normal(mean1, std1)\n",
    "    mean2, std2 = transform_log_to_normal(mean2, std2)\n",
    "    mean3, std3 = transform_log_to_normal(mean3, std3)\n",
    "    mean4, std4 = transform_log_to_normal(mean4, std4)\n",
    "\n",
    "    # Calculate covariances\n",
    "    cov1_2 = calculate_covariance(corr1_2, std1, std2)\n",
    "    cov1_3 = calculate_covariance(corr1_3, std1, std3)\n",
    "    cov2_4 = calculate_covariance(corr2_4, std2, std4)\n",
    "\n",
    "    # Build covariance matrix\n",
    "    cov_matrix = [\n",
    "        [std1**2, cov1_2, cov1_3, 0],\n",
    "        [cov1_2, std2**2, 0, cov2_4],\n",
    "        [cov1_3, 0, std3**2, 0],\n",
    "        [0, cov2_4, 0, std4**2],\n",
    "    ]\n",
    "    cov_matrix = np.array(cov_matrix)\n",
    "\n",
    "    # Generate normal random multivariate\n",
    "    data = np.random.multivariate_normal(\n",
    "        [mean1, mean2, mean3, mean4], cov_matrix, size=100000\n",
    "    )\n",
    "\n",
    "    # Transform to lognormal and build dataframe\n",
    "    data = np.exp(data)\n",
    "    df = pd.DataFrame(data, columns=[\"riv_flow\", \"dis_flow\", \"riv_qual\", \"dis_qual\"])\n",
    "\n",
    "    return df, cov_matrix"
   ]
  },
  {
   "cell_type": "markdown",
   "id": "075088c5-7a3a-436a-988d-93909f12f5f3",
   "metadata": {},
   "source": [
    "## Calculate downstream quality"
   ]
  },
  {
   "cell_type": "code",
   "execution_count": 37,
   "id": "e8270868-90ba-479e-a902-7354ed10f237",
   "metadata": {},
   "outputs": [],
   "source": [
    "# Retrieve river flow standard deviation from 95th low flow\n",
    "_, riv_flow_sd = calculate_log_mean_sd_from_95pc(riv_flow_mean, riv_flow_95pc)"
   ]
  },
  {
   "cell_type": "code",
   "execution_count": 38,
   "id": "5b27f13d-6071-472d-bc87-4be2a8df332e",
   "metadata": {},
   "outputs": [],
   "source": [
    "# Run main function to generate random data\n",
    "df, cov_matrix = calculate_multivariate_log_normal(\n",
    "    # Flow\n",
    "    riv_flow_mean,\n",
    "    riv_flow_sd,\n",
    "    dis_flow_mean,\n",
    "    dis_flow_sd,\n",
    "    # Quality\n",
    "    riv_wq_mean,\n",
    "    riv_wq_sd,\n",
    "    dis_wq_mean,\n",
    "    dis_wq_sd,\n",
    "    # Correlations\n",
    "    corr_riv_dis_flow,\n",
    "    corr_riv_flow_wq,\n",
    "    corr_dis_flow_wq,\n",
    ")"
   ]
  },
  {
   "cell_type": "code",
   "execution_count": 39,
   "id": "98cd7547-68a0-4d9f-af9b-2ec9eddf3d8c",
   "metadata": {},
   "outputs": [],
   "source": [
    "# Calculate downstream flow and quality\n",
    "df = df.eval(\"ds_flow = riv_flow + dis_flow\")\n",
    "df = df.eval(\"ds_qual = (riv_flow * riv_qual + dis_flow * dis_qual) / ds_flow\")"
   ]
  },
  {
   "cell_type": "markdown",
   "id": "2d9a4049-4edc-41fb-97fb-b74722626047",
   "metadata": {},
   "source": [
    "### Descriptive statistics"
   ]
  },
  {
   "cell_type": "code",
   "execution_count": 40,
   "id": "3f189d4b-1acf-4986-8a04-280b357cebab",
   "metadata": {},
   "outputs": [
    {
     "data": {
      "text/html": [
       "<div>\n",
       "<style scoped>\n",
       "    .dataframe tbody tr th:only-of-type {\n",
       "        vertical-align: middle;\n",
       "    }\n",
       "\n",
       "    .dataframe tbody tr th {\n",
       "        vertical-align: top;\n",
       "    }\n",
       "\n",
       "    .dataframe thead th {\n",
       "        text-align: right;\n",
       "    }\n",
       "</style>\n",
       "<table border=\"1\" class=\"dataframe\">\n",
       "  <thead>\n",
       "    <tr style=\"text-align: right;\">\n",
       "      <th></th>\n",
       "      <th>mean</th>\n",
       "      <th>std</th>\n",
       "      <th>90pc</th>\n",
       "      <th>95pc</th>\n",
       "      <th>99pc</th>\n",
       "    </tr>\n",
       "  </thead>\n",
       "  <tbody>\n",
       "    <tr>\n",
       "      <th>riv_flow</th>\n",
       "      <td>99.951257</td>\n",
       "      <td>93.495176</td>\n",
       "      <td>200.593719</td>\n",
       "      <td>267.428607</td>\n",
       "      <td>463.378501</td>\n",
       "    </tr>\n",
       "    <tr>\n",
       "      <th>dis_flow</th>\n",
       "      <td>19.955546</td>\n",
       "      <td>7.955544</td>\n",
       "      <td>30.349277</td>\n",
       "      <td>34.917133</td>\n",
       "      <td>45.342075</td>\n",
       "    </tr>\n",
       "    <tr>\n",
       "      <th>riv_qual</th>\n",
       "      <td>1.996556</td>\n",
       "      <td>1.000006</td>\n",
       "      <td>3.279178</td>\n",
       "      <td>3.889167</td>\n",
       "      <td>5.345516</td>\n",
       "    </tr>\n",
       "    <tr>\n",
       "      <th>dis_qual</th>\n",
       "      <td>15.009708</td>\n",
       "      <td>6.998242</td>\n",
       "      <td>24.068877</td>\n",
       "      <td>28.207937</td>\n",
       "      <td>37.950630</td>\n",
       "    </tr>\n",
       "    <tr>\n",
       "      <th>ds_flow</th>\n",
       "      <td>119.906803</td>\n",
       "      <td>98.056450</td>\n",
       "      <td>226.845576</td>\n",
       "      <td>295.633356</td>\n",
       "      <td>498.468296</td>\n",
       "    </tr>\n",
       "    <tr>\n",
       "      <th>ds_qual</th>\n",
       "      <td>4.737805</td>\n",
       "      <td>2.268376</td>\n",
       "      <td>7.610431</td>\n",
       "      <td>8.961600</td>\n",
       "      <td>12.380569</td>\n",
       "    </tr>\n",
       "  </tbody>\n",
       "</table>\n",
       "</div>"
      ],
      "text/plain": [
       "                mean        std        90pc        95pc        99pc\n",
       "riv_flow   99.951257  93.495176  200.593719  267.428607  463.378501\n",
       "dis_flow   19.955546   7.955544   30.349277   34.917133   45.342075\n",
       "riv_qual    1.996556   1.000006    3.279178    3.889167    5.345516\n",
       "dis_qual   15.009708   6.998242   24.068877   28.207937   37.950630\n",
       "ds_flow   119.906803  98.056450  226.845576  295.633356  498.468296\n",
       "ds_qual     4.737805   2.268376    7.610431    8.961600   12.380569"
      ]
     },
     "execution_count": 40,
     "metadata": {},
     "output_type": "execute_result"
    }
   ],
   "source": [
    "stats = df.agg([\"mean\", \"std\"]).T\n",
    "stats[\"90pc\"] = df.quantile(0.90)\n",
    "stats[\"95pc\"] = df.quantile(0.95)\n",
    "stats[\"99pc\"] = df.quantile(0.99)\n",
    "stats"
   ]
  },
  {
   "cell_type": "code",
   "execution_count": 41,
   "id": "89ce33ed-6eb7-47f2-8b16-04657350f39c",
   "metadata": {},
   "outputs": [
    {
     "data": {
      "text/html": [
       "<div>\n",
       "<style scoped>\n",
       "    .dataframe tbody tr th:only-of-type {\n",
       "        vertical-align: middle;\n",
       "    }\n",
       "\n",
       "    .dataframe tbody tr th {\n",
       "        vertical-align: top;\n",
       "    }\n",
       "\n",
       "    .dataframe thead th {\n",
       "        text-align: right;\n",
       "    }\n",
       "</style>\n",
       "<table border=\"1\" class=\"dataframe\">\n",
       "  <thead>\n",
       "    <tr style=\"text-align: right;\">\n",
       "      <th></th>\n",
       "      <th>riv_flow</th>\n",
       "      <th>dis_flow</th>\n",
       "      <th>riv_qual</th>\n",
       "      <th>dis_qual</th>\n",
       "      <th>ds_flow</th>\n",
       "      <th>ds_qual</th>\n",
       "    </tr>\n",
       "  </thead>\n",
       "  <tbody>\n",
       "    <tr>\n",
       "      <th>riv_flow</th>\n",
       "      <td>1.000000</td>\n",
       "      <td>0.544786</td>\n",
       "      <td>-0.228121</td>\n",
       "      <td>-0.001259</td>\n",
       "      <td>0.997683</td>\n",
       "      <td>-0.457370</td>\n",
       "    </tr>\n",
       "    <tr>\n",
       "      <th>dis_flow</th>\n",
       "      <td>0.544786</td>\n",
       "      <td>1.000000</td>\n",
       "      <td>-0.001764</td>\n",
       "      <td>-0.181875</td>\n",
       "      <td>0.600576</td>\n",
       "      <td>-0.191990</td>\n",
       "    </tr>\n",
       "    <tr>\n",
       "      <th>riv_qual</th>\n",
       "      <td>-0.228121</td>\n",
       "      <td>-0.001764</td>\n",
       "      <td>1.000000</td>\n",
       "      <td>0.001222</td>\n",
       "      <td>-0.217653</td>\n",
       "      <td>0.532113</td>\n",
       "    </tr>\n",
       "    <tr>\n",
       "      <th>dis_qual</th>\n",
       "      <td>-0.001259</td>\n",
       "      <td>-0.181875</td>\n",
       "      <td>0.001222</td>\n",
       "      <td>1.000000</td>\n",
       "      <td>-0.015957</td>\n",
       "      <td>0.576689</td>\n",
       "    </tr>\n",
       "    <tr>\n",
       "      <th>ds_flow</th>\n",
       "      <td>0.997683</td>\n",
       "      <td>0.600576</td>\n",
       "      <td>-0.217653</td>\n",
       "      <td>-0.015957</td>\n",
       "      <td>1.000000</td>\n",
       "      <td>-0.451671</td>\n",
       "    </tr>\n",
       "    <tr>\n",
       "      <th>ds_qual</th>\n",
       "      <td>-0.457370</td>\n",
       "      <td>-0.191990</td>\n",
       "      <td>0.532113</td>\n",
       "      <td>0.576689</td>\n",
       "      <td>-0.451671</td>\n",
       "      <td>1.000000</td>\n",
       "    </tr>\n",
       "  </tbody>\n",
       "</table>\n",
       "</div>"
      ],
      "text/plain": [
       "          riv_flow  dis_flow  riv_qual  dis_qual   ds_flow   ds_qual\n",
       "riv_flow  1.000000  0.544786 -0.228121 -0.001259  0.997683 -0.457370\n",
       "dis_flow  0.544786  1.000000 -0.001764 -0.181875  0.600576 -0.191990\n",
       "riv_qual -0.228121 -0.001764  1.000000  0.001222 -0.217653  0.532113\n",
       "dis_qual -0.001259 -0.181875  0.001222  1.000000 -0.015957  0.576689\n",
       "ds_flow   0.997683  0.600576 -0.217653 -0.015957  1.000000 -0.451671\n",
       "ds_qual  -0.457370 -0.191990  0.532113  0.576689 -0.451671  1.000000"
      ]
     },
     "execution_count": 41,
     "metadata": {},
     "output_type": "execute_result"
    }
   ],
   "source": [
    "df.corr()"
   ]
  },
  {
   "cell_type": "markdown",
   "id": "e9b26871-a457-4aa3-b726-482c01e3d9f4",
   "metadata": {},
   "source": [
    "## Backward calculation"
   ]
  },
  {
   "cell_type": "code",
   "execution_count": 42,
   "id": "8b696c8b-cb48-4e9d-8d21-c6059a204202",
   "metadata": {},
   "outputs": [],
   "source": [
    "# Objective downstream quality\n",
    "target = 6\n",
    "percentile = 0.9"
   ]
  },
  {
   "cell_type": "markdown",
   "id": "a1d2b834-5420-4327-a644-74f0c8de79ce",
   "metadata": {},
   "source": [
    "### Solution by iteration"
   ]
  },
  {
   "cell_type": "code",
   "execution_count": 43,
   "id": "b1baaf0a-3070-4032-bafa-ca4b01643b48",
   "metadata": {
    "tags": []
   },
   "outputs": [
    {
     "name": "stdout",
     "output_type": "stream",
     "text": [
      "0.7883915854705645\n"
     ]
    }
   ],
   "source": [
    "# Calculate adjustment factors and scale distribution\n",
    "scale = target / df[\"ds_qual\"].quantile(percentile)\n",
    "print(scale)\n",
    "df[\"ds_qual_target\"] = df[\"ds_qual\"] * scale\n",
    "# Recalculate discharge quality target\n",
    "df = df.eval(\"dis_qual_target = (ds_flow * ds_qual_target - riv_flow * riv_qual) / dis_flow\")\n",
    "# Recalculate dis_qual_target based keeping CoV\n",
    "adj_factor = df[\"dis_qual_target\"].mean() / df[\"dis_qual\"].mean()\n",
    "df[\"dis_qual_target\"] = df[\"dis_qual\"] * adj_factor\n",
    "# Re-calculate ds water quality\n",
    "df = df.eval(\"ds_qual_target = (riv_flow * riv_qual + dis_flow * dis_qual_target) / ds_flow\")\n",
    "# Check the scale\n",
    "scale = target / df[\"ds_qual_target\"].quantile(percentile)"
   ]
  },
  {
   "cell_type": "code",
   "execution_count": 44,
   "id": "af03c878-f7e3-4749-b12f-5a0ca686c382",
   "metadata": {},
   "outputs": [
    {
     "name": "stdout",
     "output_type": "stream",
     "text": [
      "1.0455808406236173\n",
      "0.9909438070207206\n",
      "1.0016086570370895\n",
      "0.9996822206108644\n"
     ]
    }
   ],
   "source": [
    "while round(scale, 4) != 1:\n",
    "    print(scale)\n",
    "    # Calculate adjustment factors and scale distribution\n",
    "    df[\"ds_qual_target\"] = df[\"ds_qual_target\"] * scale\n",
    "    # Recalculate discharge quality target\n",
    "    df = df.eval(\"dis_qual_target = (ds_flow * ds_qual_target - riv_flow * riv_qual) / dis_flow\")\n",
    "    # Recalculate dis_qual_target based keeping CoV\n",
    "    adj_factor = df[\"dis_qual_target\"].mean() / df[\"dis_qual\"].mean()\n",
    "    df[\"dis_qual_target\"] = df[\"dis_qual\"] * adj_factor\n",
    "    # Re-calculate ds water quality\n",
    "    df = df.eval(\"ds_qual_target = (riv_flow * riv_qual + dis_flow * dis_qual_target) / ds_flow\")\n",
    "    # Check the scale\n",
    "    scale = target / df[\"ds_qual_target\"].quantile(percentile)"
   ]
  },
  {
   "cell_type": "markdown",
   "id": "ba447835-c7f3-489b-9149-e60a675f1f74",
   "metadata": {},
   "source": [
    "### Results"
   ]
  },
  {
   "cell_type": "code",
   "execution_count": 45,
   "id": "f5965a2f-72b4-4189-9cea-d30770805b32",
   "metadata": {},
   "outputs": [
    {
     "data": {
      "text/html": [
       "<div>\n",
       "<style scoped>\n",
       "    .dataframe tbody tr th:only-of-type {\n",
       "        vertical-align: middle;\n",
       "    }\n",
       "\n",
       "    .dataframe tbody tr th {\n",
       "        vertical-align: top;\n",
       "    }\n",
       "\n",
       "    .dataframe thead th {\n",
       "        text-align: right;\n",
       "    }\n",
       "</style>\n",
       "<table border=\"1\" class=\"dataframe\">\n",
       "  <thead>\n",
       "    <tr style=\"text-align: right;\">\n",
       "      <th></th>\n",
       "      <th>mean</th>\n",
       "      <th>std</th>\n",
       "      <th>90pc</th>\n",
       "      <th>95pc</th>\n",
       "      <th>99pc</th>\n",
       "      <th>99.5pc</th>\n",
       "      <th>cov</th>\n",
       "    </tr>\n",
       "  </thead>\n",
       "  <tbody>\n",
       "    <tr>\n",
       "      <th>riv_flow</th>\n",
       "      <td>99.951257</td>\n",
       "      <td>93.495176</td>\n",
       "      <td>200.593719</td>\n",
       "      <td>267.428607</td>\n",
       "      <td>463.378501</td>\n",
       "      <td>574.784732</td>\n",
       "      <td>0.935408</td>\n",
       "    </tr>\n",
       "    <tr>\n",
       "      <th>dis_flow</th>\n",
       "      <td>19.955546</td>\n",
       "      <td>7.955544</td>\n",
       "      <td>30.349277</td>\n",
       "      <td>34.917133</td>\n",
       "      <td>45.342075</td>\n",
       "      <td>50.012260</td>\n",
       "      <td>0.398663</td>\n",
       "    </tr>\n",
       "    <tr>\n",
       "      <th>riv_qual</th>\n",
       "      <td>1.996556</td>\n",
       "      <td>1.000006</td>\n",
       "      <td>3.279178</td>\n",
       "      <td>3.889167</td>\n",
       "      <td>5.345516</td>\n",
       "      <td>6.023642</td>\n",
       "      <td>0.500866</td>\n",
       "    </tr>\n",
       "    <tr>\n",
       "      <th>dis_qual</th>\n",
       "      <td>15.009708</td>\n",
       "      <td>6.998242</td>\n",
       "      <td>24.068877</td>\n",
       "      <td>28.207937</td>\n",
       "      <td>37.950630</td>\n",
       "      <td>42.489107</td>\n",
       "      <td>0.466248</td>\n",
       "    </tr>\n",
       "    <tr>\n",
       "      <th>ds_flow</th>\n",
       "      <td>119.906803</td>\n",
       "      <td>98.056450</td>\n",
       "      <td>226.845576</td>\n",
       "      <td>295.633356</td>\n",
       "      <td>498.468296</td>\n",
       "      <td>612.834816</td>\n",
       "      <td>0.817772</td>\n",
       "    </tr>\n",
       "    <tr>\n",
       "      <th>ds_qual</th>\n",
       "      <td>4.737805</td>\n",
       "      <td>2.268376</td>\n",
       "      <td>7.610431</td>\n",
       "      <td>8.961600</td>\n",
       "      <td>12.380569</td>\n",
       "      <td>14.069518</td>\n",
       "      <td>0.478782</td>\n",
       "    </tr>\n",
       "    <tr>\n",
       "      <th>ds_qual_target</th>\n",
       "      <td>3.815179</td>\n",
       "      <td>1.704521</td>\n",
       "      <td>5.999879</td>\n",
       "      <td>6.990539</td>\n",
       "      <td>9.400879</td>\n",
       "      <td>10.590069</td>\n",
       "      <td>0.446773</td>\n",
       "    </tr>\n",
       "    <tr>\n",
       "      <th>dis_qual_target</th>\n",
       "      <td>10.705074</td>\n",
       "      <td>4.991216</td>\n",
       "      <td>17.166164</td>\n",
       "      <td>20.118182</td>\n",
       "      <td>27.066768</td>\n",
       "      <td>30.303655</td>\n",
       "      <td>0.466248</td>\n",
       "    </tr>\n",
       "  </tbody>\n",
       "</table>\n",
       "</div>"
      ],
      "text/plain": [
       "                       mean        std        90pc        95pc        99pc  \\\n",
       "riv_flow          99.951257  93.495176  200.593719  267.428607  463.378501   \n",
       "dis_flow          19.955546   7.955544   30.349277   34.917133   45.342075   \n",
       "riv_qual           1.996556   1.000006    3.279178    3.889167    5.345516   \n",
       "dis_qual          15.009708   6.998242   24.068877   28.207937   37.950630   \n",
       "ds_flow          119.906803  98.056450  226.845576  295.633356  498.468296   \n",
       "ds_qual            4.737805   2.268376    7.610431    8.961600   12.380569   \n",
       "ds_qual_target     3.815179   1.704521    5.999879    6.990539    9.400879   \n",
       "dis_qual_target   10.705074   4.991216   17.166164   20.118182   27.066768   \n",
       "\n",
       "                     99.5pc       cov  \n",
       "riv_flow         574.784732  0.935408  \n",
       "dis_flow          50.012260  0.398663  \n",
       "riv_qual           6.023642  0.500866  \n",
       "dis_qual          42.489107  0.466248  \n",
       "ds_flow          612.834816  0.817772  \n",
       "ds_qual           14.069518  0.478782  \n",
       "ds_qual_target    10.590069  0.446773  \n",
       "dis_qual_target   30.303655  0.466248  "
      ]
     },
     "execution_count": 45,
     "metadata": {},
     "output_type": "execute_result"
    }
   ],
   "source": [
    "stats = df.agg([\"mean\", \"std\"]).T\n",
    "stats[\"90pc\"] = df.quantile(0.90)\n",
    "stats[\"95pc\"] = df.quantile(0.95)\n",
    "stats[\"99pc\"] = df.quantile(0.99)\n",
    "stats[\"99.5pc\"] = df.quantile(0.995)\n",
    "stats[\"cov\"] = stats[\"std\"] / stats[\"mean\"]\n",
    "stats"
   ]
  }
 ],
 "metadata": {
  "kernelspec": {
   "display_name": "Python 3 (ipykernel)",
   "language": "python",
   "name": "python3"
  },
  "language_info": {
   "codemirror_mode": {
    "name": "ipython",
    "version": 3
   },
   "file_extension": ".py",
   "mimetype": "text/x-python",
   "name": "python",
   "nbconvert_exporter": "python",
   "pygments_lexer": "ipython3",
   "version": "3.10.9"
  }
 },
 "nbformat": 4,
 "nbformat_minor": 5
}
