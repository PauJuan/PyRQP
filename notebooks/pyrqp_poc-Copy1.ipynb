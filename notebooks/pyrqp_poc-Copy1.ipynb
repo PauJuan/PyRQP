{
 "cells": [
  {
   "cell_type": "code",
   "execution_count": 324,
   "id": "a9133a6c-0007-49d7-9ca4-abc07a28498b",
   "metadata": {},
   "outputs": [],
   "source": [
    "import numpy as np\n",
    "import pandas as pd"
   ]
  },
  {
   "cell_type": "markdown",
   "id": "e0b96aa4-5e16-4054-ac73-5d455109f890",
   "metadata": {},
   "source": [
    "# PyRQP proof of concept"
   ]
  },
  {
   "cell_type": "markdown",
   "id": "ed926bd4-4cb9-4b89-ba34-59c7302ef3d1",
   "metadata": {},
   "source": [
    "A simple notebook that contains the bare bones of the methodology to show how RQP works"
   ]
  },
  {
   "cell_type": "markdown",
   "id": "06d1a557-694c-4688-ba56-1be369f36f4d",
   "metadata": {},
   "source": [
    "## Input parameters"
   ]
  },
  {
   "cell_type": "code",
   "execution_count": 339,
   "id": "bbc8170e-a66a-4d27-bb18-13b5a07b3491",
   "metadata": {},
   "outputs": [],
   "source": [
    "# Flows\n",
    "riv_flow_mean = 100\n",
    "riv_flow_95pc = 20\n",
    "dis_flow_mean = 20\n",
    "dis_flow_sd = 8\n",
    "\n",
    "# Water quality\n",
    "riv_wq_mean = 2\n",
    "riv_wq_sd = 1\n",
    "dis_wq_mean = 15\n",
    "dis_wq_sd = 7\n",
    "\n",
    "# Correlations\n",
    "corr_riv_dis_flow = 0.66  # 0.6\n",
    "corr_riv_flow_wq = -0.41  # -0.3\n",
    "corr_dis_flow_wq = -0.23  # -0.2\n",
    "corr_riv_flow_dis_wq = 0\n",
    "\n",
    "# https://stats.stackexchange.com/questions/132855/expectation-variance-and-correlation-of-a-bivariate-lognormal-distribution\n",
    "\n",
    "# Random seed for reproducibility\n",
    "np.random.seed(42)"
   ]
  },
  {
   "cell_type": "markdown",
   "id": "df16c84b-118f-4163-8112-fc25d59bfd5f",
   "metadata": {},
   "source": [
    "## Functions"
   ]
  },
  {
   "cell_type": "code",
   "execution_count": 326,
   "id": "328fafe7-b355-4def-ab01-317ae62dd700",
   "metadata": {},
   "outputs": [],
   "source": [
    "def transform_log_to_normal(lg_mean, lg_sd):\n",
    "    \"\"\" \n",
    "    Transformation from log mean and sd to normal \n",
    "    mean and sd using the method of moments\n",
    "    \"\"\"\n",
    "    mean = np.log(lg_mean / ((1 + ((lg_sd**2) / (lg_mean**2))) ** 0.5))\n",
    "    sd = (np.log(1 + (lg_sd**2) / (lg_mean**2))) ** 0.5\n",
    "    return mean, sd"
   ]
  },
  {
   "cell_type": "code",
   "execution_count": 327,
   "id": "8d68d3db-543f-4381-8dd3-bfada950eb8b",
   "metadata": {},
   "outputs": [],
   "source": [
    "def calculate_covariance(corr, std_1, std_2):\n",
    "    \"\"\"\n",
    "    This formula takes a correlation and two std\n",
    "    and calculates the covariance\n",
    "    \"\"\"\n",
    "    cov = corr * std_1 * std_2\n",
    "    return cov"
   ]
  },
  {
   "cell_type": "code",
   "execution_count": 328,
   "id": "d05f8aaf-6ce8-461d-a2cf-2feb7cf7987d",
   "metadata": {},
   "outputs": [],
   "source": [
    "def calculate_log_mean_sd_from_95pc(lg_mean, lg_95pc):\n",
    "    \"\"\"\n",
    "    Calculate the underlying normal sd from the lognormal\n",
    "    mean and 95th low flow percentile\n",
    "    \"\"\"\n",
    "    sd = (2.705543 + 2*np.log(lg_mean) - 2*np.log(lg_95pc)) ** 0.5 - 1.644854\n",
    "    mean = np.log(lg_mean) - 0.5 * (sd**0.5)\n",
    "    lg_sd = lg_mean * (np.exp(sd**2) - 1) ** 0.5\n",
    "    return lg_mean, lg_sd"
   ]
  },
  {
   "cell_type": "code",
   "execution_count": 329,
   "id": "5e349e7b-fcee-4d13-b180-1cd3d1455ed2",
   "metadata": {},
   "outputs": [],
   "source": [
    "def calculate_multivariate_log_normal(\n",
    "    mean1, std1, mean2, std2, mean3, std3, mean4, std4, corr1_2, corr1_3, corr2_4, corr1_4\n",
    "):\n",
    "    \"\"\" \n",
    "    The main equation in RQP to generate the lognormal \n",
    "    random multivariate dataset\n",
    "    \"\"\"\n",
    "    # Transform parameters to normal\n",
    "    mean1, std1 = transform_log_to_normal(mean1, std1)\n",
    "    mean2, std2 = transform_log_to_normal(mean2, std2)\n",
    "    mean3, std3 = transform_log_to_normal(mean3, std3)\n",
    "    mean4, std4 = transform_log_to_normal(mean4, std4)\n",
    "\n",
    "    # Calculate covariances\n",
    "    cov1_2 = calculate_covariance(corr1_2, std1, std2)  # River and discharge flow (0.6)\n",
    "    cov1_3 = calculate_covariance(corr1_3, std1, std3)  # River flow and quality (-0.3)\n",
    "    cov2_4 = calculate_covariance(corr2_4, std2, std4)  # Discharge flow and quality (-0.2)\n",
    "    cov1_4 = calculate_covariance(corr1_4, std1, std4)  # River flow and discharge quality\n",
    "\n",
    "    # Build covariance matrix\n",
    "    cov_matrix = [\n",
    "        [std1**2, cov1_2, cov1_3, cov1_4],\n",
    "        [cov1_2, std2**2, 0, cov2_4],\n",
    "        [cov1_3, 0, std3**2, 0],\n",
    "        [cov1_4, cov2_4, 0, std4**2],\n",
    "    ]\n",
    "    cov_matrix = np.array(cov_matrix)\n",
    "\n",
    "    # Generate normal random multivariate\n",
    "    data = np.random.multivariate_normal(\n",
    "        [mean1, mean2, mean3, mean4], cov_matrix, size=100000\n",
    "    )\n",
    "\n",
    "    # Transform to lognormal and build dataframe\n",
    "    data = np.exp(data)\n",
    "    df = pd.DataFrame(data, columns=[\"riv_flow\", \"dis_flow\", \"riv_qual\", \"dis_qual\"])\n",
    "\n",
    "    return df, cov_matrix"
   ]
  },
  {
   "cell_type": "markdown",
   "id": "075088c5-7a3a-436a-988d-93909f12f5f3",
   "metadata": {},
   "source": [
    "## Calculate downstream quality"
   ]
  },
  {
   "cell_type": "code",
   "execution_count": 330,
   "id": "e8270868-90ba-479e-a902-7354ed10f237",
   "metadata": {},
   "outputs": [],
   "source": [
    "# Retrieve river flow standard deviation from 95th low flow\n",
    "_, riv_flow_sd = calculate_log_mean_sd_from_95pc(riv_flow_mean, riv_flow_95pc)"
   ]
  },
  {
   "cell_type": "code",
   "execution_count": 331,
   "id": "5b27f13d-6071-472d-bc87-4be2a8df332e",
   "metadata": {},
   "outputs": [],
   "source": [
    "# Run main function to generate random data\n",
    "df, cov_matrix = calculate_multivariate_log_normal(\n",
    "    # Flow\n",
    "    riv_flow_mean,\n",
    "    riv_flow_sd,\n",
    "    dis_flow_mean,\n",
    "    dis_flow_sd,\n",
    "    # Quality\n",
    "    riv_wq_mean,\n",
    "    riv_wq_sd,\n",
    "    dis_wq_mean,\n",
    "    dis_wq_sd,\n",
    "    # Correlations\n",
    "    corr_riv_dis_flow,\n",
    "    corr_riv_flow_wq,\n",
    "    corr_dis_flow_wq,\n",
    "    corr_riv_flow_dis_wq\n",
    ")"
   ]
  },
  {
   "cell_type": "code",
   "execution_count": 332,
   "id": "e01018df-214f-4836-a59a-f3a8a5d047cf",
   "metadata": {},
   "outputs": [
    {
     "data": {
      "text/html": [
       "<div>\n",
       "<style scoped>\n",
       "    .dataframe tbody tr th:only-of-type {\n",
       "        vertical-align: middle;\n",
       "    }\n",
       "\n",
       "    .dataframe tbody tr th {\n",
       "        vertical-align: top;\n",
       "    }\n",
       "\n",
       "    .dataframe thead th {\n",
       "        text-align: right;\n",
       "    }\n",
       "</style>\n",
       "<table border=\"1\" class=\"dataframe\">\n",
       "  <thead>\n",
       "    <tr style=\"text-align: right;\">\n",
       "      <th></th>\n",
       "      <th>riv_flow</th>\n",
       "      <th>dis_flow</th>\n",
       "      <th>riv_qual</th>\n",
       "      <th>dis_qual</th>\n",
       "    </tr>\n",
       "  </thead>\n",
       "  <tbody>\n",
       "    <tr>\n",
       "      <th>riv_flow</th>\n",
       "      <td>1.000000</td>\n",
       "      <td>0.602958</td>\n",
       "      <td>-0.304655</td>\n",
       "      <td>-0.001033</td>\n",
       "    </tr>\n",
       "    <tr>\n",
       "      <th>dis_flow</th>\n",
       "      <td>0.602958</td>\n",
       "      <td>1.000000</td>\n",
       "      <td>0.000795</td>\n",
       "      <td>-0.206950</td>\n",
       "    </tr>\n",
       "    <tr>\n",
       "      <th>riv_qual</th>\n",
       "      <td>-0.304655</td>\n",
       "      <td>0.000795</td>\n",
       "      <td>1.000000</td>\n",
       "      <td>0.000490</td>\n",
       "    </tr>\n",
       "    <tr>\n",
       "      <th>dis_qual</th>\n",
       "      <td>-0.001033</td>\n",
       "      <td>-0.206950</td>\n",
       "      <td>0.000490</td>\n",
       "      <td>1.000000</td>\n",
       "    </tr>\n",
       "  </tbody>\n",
       "</table>\n",
       "</div>"
      ],
      "text/plain": [
       "          riv_flow  dis_flow  riv_qual  dis_qual\n",
       "riv_flow  1.000000  0.602958 -0.304655 -0.001033\n",
       "dis_flow  0.602958  1.000000  0.000795 -0.206950\n",
       "riv_qual -0.304655  0.000795  1.000000  0.000490\n",
       "dis_qual -0.001033 -0.206950  0.000490  1.000000"
      ]
     },
     "execution_count": 332,
     "metadata": {},
     "output_type": "execute_result"
    }
   ],
   "source": [
    "df.corr()"
   ]
  },
  {
   "cell_type": "code",
   "execution_count": 333,
   "id": "98cd7547-68a0-4d9f-af9b-2ec9eddf3d8c",
   "metadata": {},
   "outputs": [],
   "source": [
    "# Calculate downstream flow and quality\n",
    "df = df.eval(\"ds_flow = riv_flow + dis_flow\")\n",
    "df = df.eval(\"ds_qual = (riv_flow * riv_qual + dis_flow * dis_qual) / ds_flow\")"
   ]
  },
  {
   "cell_type": "markdown",
   "id": "2d9a4049-4edc-41fb-97fb-b74722626047",
   "metadata": {},
   "source": [
    "### Results"
   ]
  },
  {
   "cell_type": "code",
   "execution_count": 334,
   "id": "3f189d4b-1acf-4986-8a04-280b357cebab",
   "metadata": {},
   "outputs": [
    {
     "data": {
      "text/html": [
       "<div>\n",
       "<style scoped>\n",
       "    .dataframe tbody tr th:only-of-type {\n",
       "        vertical-align: middle;\n",
       "    }\n",
       "\n",
       "    .dataframe tbody tr th {\n",
       "        vertical-align: top;\n",
       "    }\n",
       "\n",
       "    .dataframe thead th {\n",
       "        text-align: right;\n",
       "    }\n",
       "</style>\n",
       "<table border=\"1\" class=\"dataframe\">\n",
       "  <thead>\n",
       "    <tr style=\"text-align: right;\">\n",
       "      <th></th>\n",
       "      <th>mean</th>\n",
       "      <th>std</th>\n",
       "      <th>90pc</th>\n",
       "      <th>95pc</th>\n",
       "      <th>99pc</th>\n",
       "    </tr>\n",
       "  </thead>\n",
       "  <tbody>\n",
       "    <tr>\n",
       "      <th>riv_flow</th>\n",
       "      <td>99.952619</td>\n",
       "      <td>93.488291</td>\n",
       "      <td>200.493268</td>\n",
       "      <td>267.624302</td>\n",
       "      <td>464.252006</td>\n",
       "    </tr>\n",
       "    <tr>\n",
       "      <th>dis_flow</th>\n",
       "      <td>19.951440</td>\n",
       "      <td>7.957089</td>\n",
       "      <td>30.313332</td>\n",
       "      <td>34.941751</td>\n",
       "      <td>45.130895</td>\n",
       "    </tr>\n",
       "    <tr>\n",
       "      <th>riv_qual</th>\n",
       "      <td>1.997139</td>\n",
       "      <td>0.999869</td>\n",
       "      <td>3.273713</td>\n",
       "      <td>3.891704</td>\n",
       "      <td>5.332771</td>\n",
       "    </tr>\n",
       "    <tr>\n",
       "      <th>dis_qual</th>\n",
       "      <td>15.015398</td>\n",
       "      <td>6.996507</td>\n",
       "      <td>24.067248</td>\n",
       "      <td>28.219294</td>\n",
       "      <td>37.950830</td>\n",
       "    </tr>\n",
       "    <tr>\n",
       "      <th>ds_flow</th>\n",
       "      <td>119.904059</td>\n",
       "      <td>98.490864</td>\n",
       "      <td>227.598554</td>\n",
       "      <td>297.043225</td>\n",
       "      <td>500.290676</td>\n",
       "    </tr>\n",
       "    <tr>\n",
       "      <th>ds_qual</th>\n",
       "      <td>4.693850</td>\n",
       "      <td>2.240823</td>\n",
       "      <td>7.547841</td>\n",
       "      <td>8.885761</td>\n",
       "      <td>12.135748</td>\n",
       "    </tr>\n",
       "  </tbody>\n",
       "</table>\n",
       "</div>"
      ],
      "text/plain": [
       "                mean        std        90pc        95pc        99pc\n",
       "riv_flow   99.952619  93.488291  200.493268  267.624302  464.252006\n",
       "dis_flow   19.951440   7.957089   30.313332   34.941751   45.130895\n",
       "riv_qual    1.997139   0.999869    3.273713    3.891704    5.332771\n",
       "dis_qual   15.015398   6.996507   24.067248   28.219294   37.950830\n",
       "ds_flow   119.904059  98.490864  227.598554  297.043225  500.290676\n",
       "ds_qual     4.693850   2.240823    7.547841    8.885761   12.135748"
      ]
     },
     "execution_count": 334,
     "metadata": {},
     "output_type": "execute_result"
    }
   ],
   "source": [
    "stats = df.agg([\"mean\", \"std\"]).T\n",
    "stats[\"90pc\"] = df.quantile(0.90)\n",
    "stats[\"95pc\"] = df.quantile(0.95)\n",
    "stats[\"99pc\"] = df.quantile(0.99)\n",
    "stats"
   ]
  },
  {
   "cell_type": "markdown",
   "id": "e9b26871-a457-4aa3-b726-482c01e3d9f4",
   "metadata": {},
   "source": [
    "## Backward calculation"
   ]
  },
  {
   "cell_type": "code",
   "execution_count": 335,
   "id": "8b696c8b-cb48-4e9d-8d21-c6059a204202",
   "metadata": {},
   "outputs": [],
   "source": [
    "# Objective downstream quality\n",
    "target = 6\n",
    "percentile = 0.9"
   ]
  },
  {
   "cell_type": "markdown",
   "id": "a1d2b834-5420-4327-a644-74f0c8de79ce",
   "metadata": {},
   "source": [
    "### Solution by iteration"
   ]
  },
  {
   "cell_type": "code",
   "execution_count": 336,
   "id": "f507c2d3-0fad-4af6-93b9-24c3f4b8309d",
   "metadata": {},
   "outputs": [
    {
     "name": "stdout",
     "output_type": "stream",
     "text": [
      "0.7949293567907915\n",
      "1.0344580410112005\n",
      "0.9949804583693662\n",
      "1.0005144443711507\n"
     ]
    }
   ],
   "source": [
    "# Calculate adjustment factors and scale distribution\n",
    "df[\"ds_qual_target\"] = df[\"ds_qual\"]\n",
    "scale = target / df[\"ds_qual\"].quantile(percentile)\n",
    "\n",
    "while not (0.9999 <= scale <= 1.0001):\n",
    "    print(scale)\n",
    "    # Scale target distribution\n",
    "    df[\"ds_qual_target\"] = df[\"ds_qual_target\"] * scale\n",
    "\n",
    "    # Recalculate discharge quality target\n",
    "    df = df.eval(\"dis_qual_target = (ds_flow * ds_qual_target - riv_flow * riv_qual) / dis_flow\")\n",
    "\n",
    "    # Recalculate discharge quality keeping CoV\n",
    "    adj_factor = df[\"dis_qual_target\"].mean() / df[\"dis_qual\"].mean()\n",
    "    df[\"dis_qual_target\"] = df[\"dis_qual\"] * adj_factor\n",
    "\n",
    "    # Recalculate downstream water quality and check scale\n",
    "    df = df.eval(\"ds_qual_target = (riv_flow * riv_qual + dis_flow * dis_qual_target) / ds_flow\")\n",
    "    scale = target / df[\"ds_qual_target\"].quantile(percentile)"
   ]
  },
  {
   "cell_type": "markdown",
   "id": "ba447835-c7f3-489b-9149-e60a675f1f74",
   "metadata": {},
   "source": [
    "### Results"
   ]
  },
  {
   "cell_type": "code",
   "execution_count": 337,
   "id": "f5965a2f-72b4-4189-9cea-d30770805b32",
   "metadata": {},
   "outputs": [
    {
     "data": {
      "text/html": [
       "<div>\n",
       "<style scoped>\n",
       "    .dataframe tbody tr th:only-of-type {\n",
       "        vertical-align: middle;\n",
       "    }\n",
       "\n",
       "    .dataframe tbody tr th {\n",
       "        vertical-align: top;\n",
       "    }\n",
       "\n",
       "    .dataframe thead th {\n",
       "        text-align: right;\n",
       "    }\n",
       "</style>\n",
       "<table border=\"1\" class=\"dataframe\">\n",
       "  <thead>\n",
       "    <tr style=\"text-align: right;\">\n",
       "      <th></th>\n",
       "      <th>mean</th>\n",
       "      <th>std</th>\n",
       "      <th>90pc</th>\n",
       "      <th>95pc</th>\n",
       "      <th>99pc</th>\n",
       "      <th>99.5pc</th>\n",
       "      <th>cov</th>\n",
       "    </tr>\n",
       "  </thead>\n",
       "  <tbody>\n",
       "    <tr>\n",
       "      <th>riv_flow</th>\n",
       "      <td>99.952619</td>\n",
       "      <td>93.488291</td>\n",
       "      <td>200.493268</td>\n",
       "      <td>267.624302</td>\n",
       "      <td>464.252006</td>\n",
       "      <td>573.776517</td>\n",
       "      <td>0.935326</td>\n",
       "    </tr>\n",
       "    <tr>\n",
       "      <th>dis_flow</th>\n",
       "      <td>19.951440</td>\n",
       "      <td>7.957089</td>\n",
       "      <td>30.313332</td>\n",
       "      <td>34.941751</td>\n",
       "      <td>45.130895</td>\n",
       "      <td>50.064685</td>\n",
       "      <td>0.398823</td>\n",
       "    </tr>\n",
       "    <tr>\n",
       "      <th>riv_qual</th>\n",
       "      <td>1.997139</td>\n",
       "      <td>0.999869</td>\n",
       "      <td>3.273713</td>\n",
       "      <td>3.891704</td>\n",
       "      <td>5.332771</td>\n",
       "      <td>6.003334</td>\n",
       "      <td>0.500651</td>\n",
       "    </tr>\n",
       "    <tr>\n",
       "      <th>dis_qual</th>\n",
       "      <td>15.015398</td>\n",
       "      <td>6.996507</td>\n",
       "      <td>24.067248</td>\n",
       "      <td>28.219294</td>\n",
       "      <td>37.950830</td>\n",
       "      <td>42.514328</td>\n",
       "      <td>0.465956</td>\n",
       "    </tr>\n",
       "    <tr>\n",
       "      <th>ds_flow</th>\n",
       "      <td>119.904059</td>\n",
       "      <td>98.490864</td>\n",
       "      <td>227.598554</td>\n",
       "      <td>297.043225</td>\n",
       "      <td>500.290676</td>\n",
       "      <td>613.579800</td>\n",
       "      <td>0.821414</td>\n",
       "    </tr>\n",
       "    <tr>\n",
       "      <th>ds_qual</th>\n",
       "      <td>4.693850</td>\n",
       "      <td>2.240823</td>\n",
       "      <td>7.547841</td>\n",
       "      <td>8.885761</td>\n",
       "      <td>12.135748</td>\n",
       "      <td>13.726118</td>\n",
       "      <td>0.477396</td>\n",
       "    </tr>\n",
       "    <tr>\n",
       "      <th>ds_qual_target</th>\n",
       "      <td>3.803303</td>\n",
       "      <td>1.711183</td>\n",
       "      <td>6.000382</td>\n",
       "      <td>7.007878</td>\n",
       "      <td>9.360349</td>\n",
       "      <td>10.500239</td>\n",
       "      <td>0.449920</td>\n",
       "    </tr>\n",
       "    <tr>\n",
       "      <th>dis_qual_target</th>\n",
       "      <td>10.815308</td>\n",
       "      <td>5.039452</td>\n",
       "      <td>17.335184</td>\n",
       "      <td>20.325825</td>\n",
       "      <td>27.335267</td>\n",
       "      <td>30.622268</td>\n",
       "      <td>0.465956</td>\n",
       "    </tr>\n",
       "  </tbody>\n",
       "</table>\n",
       "</div>"
      ],
      "text/plain": [
       "                       mean        std        90pc        95pc        99pc  \\\n",
       "riv_flow          99.952619  93.488291  200.493268  267.624302  464.252006   \n",
       "dis_flow          19.951440   7.957089   30.313332   34.941751   45.130895   \n",
       "riv_qual           1.997139   0.999869    3.273713    3.891704    5.332771   \n",
       "dis_qual          15.015398   6.996507   24.067248   28.219294   37.950830   \n",
       "ds_flow          119.904059  98.490864  227.598554  297.043225  500.290676   \n",
       "ds_qual            4.693850   2.240823    7.547841    8.885761   12.135748   \n",
       "ds_qual_target     3.803303   1.711183    6.000382    7.007878    9.360349   \n",
       "dis_qual_target   10.815308   5.039452   17.335184   20.325825   27.335267   \n",
       "\n",
       "                     99.5pc       cov  \n",
       "riv_flow         573.776517  0.935326  \n",
       "dis_flow          50.064685  0.398823  \n",
       "riv_qual           6.003334  0.500651  \n",
       "dis_qual          42.514328  0.465956  \n",
       "ds_flow          613.579800  0.821414  \n",
       "ds_qual           13.726118  0.477396  \n",
       "ds_qual_target    10.500239  0.449920  \n",
       "dis_qual_target   30.622268  0.465956  "
      ]
     },
     "execution_count": 337,
     "metadata": {},
     "output_type": "execute_result"
    }
   ],
   "source": [
    "stats = df.agg([\"mean\", \"std\"]).T\n",
    "stats[\"90pc\"] = df.quantile(0.90)\n",
    "stats[\"95pc\"] = df.quantile(0.95)\n",
    "stats[\"99pc\"] = df.quantile(0.99)\n",
    "stats[\"99.5pc\"] = df.quantile(0.995)\n",
    "stats[\"cov\"] = stats[\"std\"] / stats[\"mean\"]\n",
    "stats"
   ]
  }
 ],
 "metadata": {
  "kernelspec": {
   "display_name": "Python 3 (ipykernel)",
   "language": "python",
   "name": "python3"
  },
  "language_info": {
   "codemirror_mode": {
    "name": "ipython",
    "version": 3
   },
   "file_extension": ".py",
   "mimetype": "text/x-python",
   "name": "python",
   "nbconvert_exporter": "python",
   "pygments_lexer": "ipython3",
   "version": "3.10.9"
  }
 },
 "nbformat": 4,
 "nbformat_minor": 5
}
